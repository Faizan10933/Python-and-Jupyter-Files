{
 "cells": [
  {
   "cell_type": "code",
   "execution_count": 5,
   "metadata": {},
   "outputs": [],
   "source": [
    "import pywhatkit"
   ]
  },
  {
   "cell_type": "code",
   "execution_count": 6,
   "metadata": {},
   "outputs": [],
   "source": [
    "pywhatkit.text_to_handwriting(\"In CRC, The only relationship between the size of the codeword and the size of the dataword is the one based on the definition:         n = k + r., where n is the size of the codeword, k is the size of the dataword, and r is the size of the remainder.b.In CRC, The remainder is always one bit smaller than the divisor.c.In CRC, The degree of the generator polynomial is one less than the size of the divisor. For example, the CRC-32 generator uses a 33-bit divisor.d.In CRC, The degree of the generator polynomial is the same as the size of the remainder. For example, CRC-32 creates a remainder of 32 bits.Extra question:The value of a checksum can be all 0s. This happens when the value of the sum becomes all 1s. It is almost impossible for the value of a checksum to be all 1s. For this to happen, the value of the sum must be all 0s which means all data units must be 0s\",rgb=(0,0,255))"
   ]
  },
  {
   "cell_type": "code",
   "execution_count": null,
   "metadata": {},
   "outputs": [],
   "source": []
  }
 ],
 "metadata": {
  "kernelspec": {
   "display_name": "Python 3",
   "language": "python",
   "name": "python3"
  },
  "language_info": {
   "codemirror_mode": {
    "name": "ipython",
    "version": 3
   },
   "file_extension": ".py",
   "mimetype": "text/x-python",
   "name": "python",
   "nbconvert_exporter": "python",
   "pygments_lexer": "ipython3",
   "version": "3.7.1"
  }
 },
 "nbformat": 4,
 "nbformat_minor": 2
}
