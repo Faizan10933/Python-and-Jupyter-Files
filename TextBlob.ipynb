{
 "cells": [
  {
   "cell_type": "code",
   "execution_count": 4,
   "metadata": {},
   "outputs": [
    {
     "name": "stdout",
     "output_type": "stream",
     "text": [
      "Enter a sentencefuck\n",
      "Negative\n"
     ]
    }
   ],
   "source": [
    "from textblob import TextBlob\n",
    "s=input(\"Enter a sentence\")\n",
    "x=TextBlob(s)\n",
    "r=x.sentiment.polarity\n",
    "if r<0:\n",
    "    print(\"Negative\")\n",
    "elif r==0:\n",
    "    print(\"Neutral\")\n",
    "else:\n",
    "    print(\"positive\")"
   ]
  },
  {
   "cell_type": "code",
   "execution_count": 2,
   "metadata": {},
   "outputs": [
    {
     "name": "stdout",
     "output_type": "stream",
     "text": [
      "{'Negative': 3, 'Positive': 7, 'Neutral': 3}\n"
     ]
    },
    {
     "data": {
      "text/plain": [
       "<Figure size 640x480 with 1 Axes>"
      ]
     },
     "metadata": {},
     "output_type": "display_data"
    }
   ],
   "source": [
    "import matplotlib.pyplot as plt\n",
    "import numpy as np\n",
    "from textblob import TextBlob\n",
    "l=[]\n",
    "with open(\"BIG.txt\",'r',encoding='utf-8') as f:\n",
    "    s=f.readlines()\n",
    "d={\"Negative\":0,\"Positive\":0,\"Neutral\":0}\n",
    "for i in s:\n",
    "    x=TextBlob(i)\n",
    "    r=x.sentiment.polarity\n",
    "    if r<0 :\n",
    "        d[\"Negative\"]+=1\n",
    "    elif r==0:\n",
    "        d[\"Neutral\"]+=1\n",
    "    else:\n",
    "        d[\"Positive\"]+=1\n",
    "print(d)\n",
    "plt.pie(d.values(),labels=['Negative','Neutral','Positive'],autopct=\"%.2f%%\")\n",
    "plt.show()"
   ]
  },
  {
   "cell_type": "code",
   "execution_count": null,
   "metadata": {},
   "outputs": [],
   "source": []
  }
 ],
 "metadata": {
  "kernelspec": {
   "display_name": "Python 3",
   "language": "python",
   "name": "python3"
  },
  "language_info": {
   "codemirror_mode": {
    "name": "ipython",
    "version": 3
   },
   "file_extension": ".py",
   "mimetype": "text/x-python",
   "name": "python",
   "nbconvert_exporter": "python",
   "pygments_lexer": "ipython3",
   "version": "3.7.1"
  }
 },
 "nbformat": 4,
 "nbformat_minor": 2
}
