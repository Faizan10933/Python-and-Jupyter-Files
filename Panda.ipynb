{
 "cells": [
  {
   "cell_type": "code",
   "execution_count": 5,
   "metadata": {},
   "outputs": [
    {
     "name": "stdout",
     "output_type": "stream",
     "text": [
      "0    1\n",
      "1    2\n",
      "2    3\n",
      "3    4\n",
      "4    5\n",
      "5    6\n",
      "6    7\n",
      "7    8\n",
      "8    9\n",
      "dtype: int32\n"
     ]
    }
   ],
   "source": [
    "import pandas as pd\n",
    "import numpy as np\n",
    "L=np.arange(1,10)\n",
    "s=pd.Series(L)\n",
    "print(s)"
   ]
  },
  {
   "cell_type": "code",
   "execution_count": 9,
   "metadata": {},
   "outputs": [
    {
     "name": "stdout",
     "output_type": "stream",
     "text": [
      "a    1\n",
      "b    2\n",
      "c    3\n",
      "d    4\n",
      "e    5\n",
      "f    6\n",
      "g    7\n",
      "h    8\n",
      "i    9\n",
      "dtype: int32\n"
     ]
    }
   ],
   "source": [
    "s=pd.Series(L,index=['a','b','c','d','e','f','g','h','i'])\n",
    "print(s)"
   ]
  },
  {
   "cell_type": "code",
   "execution_count": 12,
   "metadata": {},
   "outputs": [
    {
     "name": "stdout",
     "output_type": "stream",
     "text": [
      "Monday       50\n",
      "tuesday      60\n",
      "wednesday    70\n",
      "thursday     89\n",
      "friday       12\n",
      "saturday     45\n",
      "sunday       36\n",
      "dtype: int64\n"
     ]
    }
   ],
   "source": [
    "d={'Monday':50,'tuesday':60,'wednesday':70,'thursday':89,'friday':12,'saturday':45,'sunday':36}\n",
    "s=pd.Series(list(d.values()),index=d.keys())\n",
    "print(s)\n"
   ]
  },
  {
   "cell_type": "code",
   "execution_count": 19,
   "metadata": {},
   "outputs": [
    {
     "name": "stdout",
     "output_type": "stream",
     "text": [
      "Index(['Monday', 'tuesday', 'wednesday', 'thursday', 'friday', 'saturday',\n",
      "       'sunday'],\n",
      "      dtype='object')\n",
      "[50 60 70 89 12 45 36]\n",
      "int64\n",
      "(7,)\n",
      "1\n",
      "7\n",
      "8\n"
     ]
    },
    {
     "name": "stderr",
     "output_type": "stream",
     "text": [
      "C:\\Users\\FAIZAN\\Anaconda3\\lib\\site-packages\\ipykernel_launcher.py:7: FutureWarning: Series.itemsize is deprecated and will be removed in a future version\n",
      "  import sys\n"
     ]
    }
   ],
   "source": [
    "print(s.index)\n",
    "print(s.values)\n",
    "print(s.dtype)\n",
    "print(s.shape)\n",
    "print(s.ndim)\n",
    "print(s.size)\n",
    "print(s.itemsize)"
   ]
  },
  {
   "cell_type": "code",
   "execution_count": null,
   "metadata": {},
   "outputs": [],
   "source": []
  }
 ],
 "metadata": {
  "kernelspec": {
   "display_name": "Python 3",
   "language": "python",
   "name": "python3"
  },
  "language_info": {
   "codemirror_mode": {
    "name": "ipython",
    "version": 3
   },
   "file_extension": ".py",
   "mimetype": "text/x-python",
   "name": "python",
   "nbconvert_exporter": "python",
   "pygments_lexer": "ipython3",
   "version": "3.7.1"
  }
 },
 "nbformat": 4,
 "nbformat_minor": 2
}
