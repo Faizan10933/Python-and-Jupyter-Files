{
 "cells": [
  {
   "cell_type": "code",
   "execution_count": 2,
   "metadata": {},
   "outputs": [
    {
     "name": "stdout",
     "output_type": "stream",
     "text": [
      "  __\n",
      "| Hi |\n",
      "  ==\n",
      "          \\\n",
      "           \\\n",
      "            \\\n",
      "             \\\n",
      "              /- _  `-/  '\n",
      "             (/\\/ \\ \\   /\\\n",
      "             / /   | `    \\\n",
      "             O O   ) /    |\n",
      "             `-^--'`<     '\n",
      "            (_.)  _  )   /\n",
      "             `.___/`    /\n",
      "               `-----' /\n",
      "  <----.     __ / __   \\\n",
      "  <----|====O)))==) \\) /====\n",
      "  <----'    `--' `.__,' \\\n",
      "               |        |\n",
      "                \\       /\n",
      "          ______( (_  / \\______\n",
      "        ,'  ,-----'   |        \\\n",
      "        `--{__________)        \\/\n"
     ]
    }
   ],
   "source": [
    "import cowsay\n",
    "cowsay.daemon(\"Hi\")"
   ]
  },
  {
   "cell_type": "code",
   "execution_count": null,
   "metadata": {},
   "outputs": [],
   "source": []
  }
 ],
 "metadata": {
  "kernelspec": {
   "display_name": "Python 3",
   "language": "python",
   "name": "python3"
  },
  "language_info": {
   "codemirror_mode": {
    "name": "ipython",
    "version": 3
   },
   "file_extension": ".py",
   "mimetype": "text/x-python",
   "name": "python",
   "nbconvert_exporter": "python",
   "pygments_lexer": "ipython3",
   "version": "3.7.1"
  }
 },
 "nbformat": 4,
 "nbformat_minor": 2
}
