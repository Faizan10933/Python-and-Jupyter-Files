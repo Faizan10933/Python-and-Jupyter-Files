{
 "cells": [
  {
   "cell_type": "code",
   "execution_count": 1,
   "metadata": {},
   "outputs": [],
   "source": [
    "import cv2\n",
    "import numpy as np\n",
    "def fun(x):\n",
    "    pass\n"
   ]
  },
  {
   "cell_type": "code",
   "execution_count": 2,
   "metadata": {},
   "outputs": [],
   "source": [
    "img=np.zeros((500,500,3),np.uint8)\n",
    "cv2.namedWindow(\"image\")\n",
    "cv2.createTrackbar('b','image',0,255,fun)\n",
    "cv2.createTrackbar('g','image',0,255,fun)\n",
    "cv2.createTrackbar('r','image',0,255,fun)\n",
    "while True:\n",
    "    cv2.imshow('image',img)\n",
    "    K=cv2.waitKey(1) & 0XFF\n",
    "    if  K==27:\n",
    "        break\n",
    "    b=cv2.getTrackbarPos('b','image')\n",
    "    g=cv2.getTrackbarPos('g','image')\n",
    "    r=cv2.getTrackbarPos('r','image')\n",
    "    img[:]=[b,g,r]\n",
    "cv2.destroyAllWindows()"
   ]
  },
  {
   "cell_type": "code",
   "execution_count": null,
   "metadata": {},
   "outputs": [],
   "source": []
  }
 ],
 "metadata": {
  "kernelspec": {
   "display_name": "Python 3",
   "language": "python",
   "name": "python3"
  },
  "language_info": {
   "codemirror_mode": {
    "name": "ipython",
    "version": 3
   },
   "file_extension": ".py",
   "mimetype": "text/x-python",
   "name": "python",
   "nbconvert_exporter": "python",
   "pygments_lexer": "ipython3",
   "version": "3.7.1"
  }
 },
 "nbformat": 4,
 "nbformat_minor": 2
}
