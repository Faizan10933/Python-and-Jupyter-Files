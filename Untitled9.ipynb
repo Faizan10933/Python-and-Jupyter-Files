{
 "cells": [
  {
   "cell_type": "code",
   "execution_count": 1,
   "metadata": {},
   "outputs": [],
   "source": [
    "from tkinter import *\n",
    "root=Tk()\n",
    "\n",
    "\n",
    "def calc(evt):\n",
    "    a=txt1.get()\n",
    "    op=txt2.get()\n",
    "    b=txt3.get()\n",
    "    if a!='' and b!='' and op!='':\n",
    "        d=eval(a+ op + b)\n",
    "        txt4.delete(0,END)\n",
    "        txt4.insert(0,int(d))\n",
    "\n",
    "\n",
    "root.geometry('800x300')\n",
    "root.title('CALCULATOR')\n",
    "txt1=Entry(root,width=10,borderwidth=7,justify='center')\n",
    "txt1.grid(row=0,column=0,ipadx=10,ipady=5,padx=20)\n",
    "txt2=Entry(root,width=5,borderwidth=7,justify='center')\n",
    "txt2.grid(row=0,column=1,ipadx=10,ipady=5,padx=20)\n",
    "txt3=Entry(root,width=10,borderwidth=7,justify='center')\n",
    "txt3.grid(row=0,column=2,ipadx=10,ipady=5,padx=20)\n",
    "\n",
    "lbl1=Label(root,text='+',font=('arial',20))\n",
    "lbl1.grid(row=0,column=3,padx=10)\n",
    "\n",
    "txt4=Entry(root,width=10,borderwidth=7,justify='center')\n",
    "txt4.grid(row=0,column=4,ipadx=10,ipady=5,padx=20)\n",
    "\n",
    "txt1.bind(\"<KeyRelease>\",calc)\n",
    "txt2.bind(\"<KeyRelease>\",calc)\n",
    "txt3.bind(\"<KeyRelease>\",calc)\n",
    "\n",
    "root.mainloop()"
   ]
  },
  {
   "cell_type": "code",
   "execution_count": null,
   "metadata": {},
   "outputs": [],
   "source": []
  }
 ],
 "metadata": {
  "kernelspec": {
   "display_name": "Python 3",
   "language": "python",
   "name": "python3"
  },
  "language_info": {
   "codemirror_mode": {
    "name": "ipython",
    "version": 3
   },
   "file_extension": ".py",
   "mimetype": "text/x-python",
   "name": "python",
   "nbconvert_exporter": "python",
   "pygments_lexer": "ipython3",
   "version": "3.7.1"
  }
 },
 "nbformat": 4,
 "nbformat_minor": 2
}
