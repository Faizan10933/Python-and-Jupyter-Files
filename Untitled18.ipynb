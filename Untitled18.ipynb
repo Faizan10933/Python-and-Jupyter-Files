{
 "cells": [
  {
   "cell_type": "code",
   "execution_count": 3,
   "metadata": {},
   "outputs": [
    {
     "name": "stdout",
     "output_type": "stream",
     "text": [
      "1\n",
      "1**1\n",
      "1***1\n",
      "1****1\n",
      "5555555\n"
     ]
    }
   ],
   "source": [
    "for i in range(1,6):\n",
    "    if i==1:\n",
    "        print(i)\n",
    "    elif(i==5):\n",
    "        print(str(i)*7)\n",
    "    else:\n",
    "        print('1'+'*'*i+'1')\n",
    "    "
   ]
  },
  {
   "cell_type": "code",
   "execution_count": null,
   "metadata": {},
   "outputs": [],
   "source": [
    "n=int(input('enter a no'))\n",
    "sum=n\n",
    "for i in range(1,n):\n",
    "    sum+=i\n",
    "    print(str(i)+'+',end='')\n",
    "print(n,'=',sum)"
   ]
  },
  {
   "cell_type": "code",
   "execution_count": null,
   "metadata": {},
   "outputs": [],
   "source": [
    "#input 3 nos from user and calculate avg and sum using function and print using main\n",
    "\n",
    "def calc(a,b,c)\n",
    "    t=a+b+c\n",
    "    avg=t/3\n",
    "    return t,avg\n",
    "t,x=calc(a,b,c)\n",
    "print('total=',t)\n",
    "print('avg=',x)"
   ]
  },
  {
   "cell_type": "code",
   "execution_count": 7,
   "metadata": {},
   "outputs": [
    {
     "name": "stdout",
     "output_type": "stream",
     "text": [
      "['Python', 'is', 'a', 'high', 'level', 'object', 'oriented', 'programming', 'language']\n",
      "Python \t is\n",
      "a \t high\n",
      "level \t object\n",
      "oriented \t programming\n",
      "language \t  \n"
     ]
    }
   ],
   "source": [
    "s='Python is a high level object oriented programming language'\n",
    "L=s.split()\n",
    "if len(L)%2==1:\n",
    "    L.append(' ')\n",
    "print(s1)\n",
    "for i in range(0,len(L),2):\n",
    "    print(L[i],'\\t',L[i+1])\n",
    "    "
   ]
  },
  {
   "cell_type": "code",
   "execution_count": null,
   "metadata": {},
   "outputs": [],
   "source": []
  }
 ],
 "metadata": {
  "kernelspec": {
   "display_name": "Python 3",
   "language": "python",
   "name": "python3"
  },
  "language_info": {
   "codemirror_mode": {
    "name": "ipython",
    "version": 3
   },
   "file_extension": ".py",
   "mimetype": "text/x-python",
   "name": "python",
   "nbconvert_exporter": "python",
   "pygments_lexer": "ipython3",
   "version": "3.7.1"
  }
 },
 "nbformat": 4,
 "nbformat_minor": 2
}
