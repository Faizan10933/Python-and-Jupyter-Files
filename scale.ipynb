{
 "cells": [
  {
   "cell_type": "code",
   "execution_count": null,
   "metadata": {},
   "outputs": [],
   "source": [
    "from tkinter import *\n",
    "class App:\n",
    "    def __init__(self):\n",
    "        self.root=Tk()\n",
    "        self.root.geometry('500x500')\n",
    "        self.root.title('RGB MIXTURE')\n",
    "        self.l=Label(self.root,text='RGB MIXTURE')\n",
    "        self.l.pack()\n",
    "        self.s1=Scale(self.root,label='RED',from_=0,to=255,orient=HORIZONTAL,length=200,command=self.show)\n",
    "        self.s1.pack()\n",
    "\n",
    "        \n",
    "        self.s2=Scale(self.root,label='GREEN',from_=0,to=255,orient=HORIZONTAL,length=200,command=self.show)\n",
    "        self.s2.pack()\n",
    "        \n",
    "        self.s3=Scale(self.root,label='BLUE',from_=0,to=255,orient=HORIZONTAL,length=200,command=self.show)\n",
    "        self.s3.pack()\n",
    "        \n",
    "        self.root.mainloop()\n",
    "    def show(self,v):\n",
    "       #self.L.config(text='selected value='+str(value))\n",
    "        r=self.s1.get()\n",
    "        g=self.s2.get()\n",
    "        b=self.s3.get()\n",
    "    \n",
    "      # print(\"r=\",r)\n",
    "       #print(\"g=\",g)\n",
    "       #print(\"b=\",b)\n",
    "        \n",
    "        self.root.configure(bg=\"#%02x%02x%02x\"%(r,g,b))\n",
    "        \n",
    "        \n",
    "obj=App()"
   ]
  },
  {
   "cell_type": "code",
   "execution_count": null,
   "metadata": {},
   "outputs": [],
   "source": []
  },
  {
   "cell_type": "code",
   "execution_count": null,
   "metadata": {},
   "outputs": [],
   "source": []
  }
 ],
 "metadata": {
  "kernelspec": {
   "display_name": "Python 3",
   "language": "python",
   "name": "python3"
  },
  "language_info": {
   "codemirror_mode": {
    "name": "ipython",
    "version": 3
   },
   "file_extension": ".py",
   "mimetype": "text/x-python",
   "name": "python",
   "nbconvert_exporter": "python",
   "pygments_lexer": "ipython3",
   "version": "3.7.1"
  }
 },
 "nbformat": 4,
 "nbformat_minor": 2
}
