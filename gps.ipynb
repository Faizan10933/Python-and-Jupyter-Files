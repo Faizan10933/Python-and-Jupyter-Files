{
 "cells": [
  {
   "cell_type": "code",
   "execution_count": 1,
   "metadata": {},
   "outputs": [],
   "source": [
    "#track phone number and display its current location\n",
    "import mechanize\n",
    "from bs4 import BeautifulSoup"
   ]
  },
  {
   "cell_type": "code",
   "execution_count": 6,
   "metadata": {},
   "outputs": [
    {
     "ename": "NameError",
     "evalue": "name 'sort' is not defined",
     "output_type": "error",
     "traceback": [
      "\u001b[1;31m---------------------------------------------------------------------------\u001b[0m",
      "\u001b[1;31mNameError\u001b[0m                                 Traceback (most recent call last)",
      "\u001b[1;32m<ipython-input-6-703b649fccf3>\u001b[0m in \u001b[0;36m<module>\u001b[1;34m\u001b[0m\n\u001b[0;32m      8\u001b[0m \u001b[0msoup\u001b[0m\u001b[1;33m=\u001b[0m\u001b[0mBeautifulSoup\u001b[0m\u001b[1;33m(\u001b[0m\u001b[0mres\u001b[0m\u001b[1;33m.\u001b[0m\u001b[0mread\u001b[0m\u001b[1;33m(\u001b[0m\u001b[1;33m)\u001b[0m\u001b[1;33m,\u001b[0m\u001b[1;34m'html.parser'\u001b[0m\u001b[1;33m)\u001b[0m\u001b[1;33m\u001b[0m\u001b[1;33m\u001b[0m\u001b[0m\n\u001b[0;32m      9\u001b[0m \u001b[1;31m#print(soup)\u001b[0m\u001b[1;33m\u001b[0m\u001b[1;33m\u001b[0m\u001b[1;33m\u001b[0m\u001b[0m\n\u001b[1;32m---> 10\u001b[1;33m \u001b[0mtbl\u001b[0m\u001b[1;33m=\u001b[0m\u001b[0msoup\u001b[0m\u001b[1;33m.\u001b[0m\u001b[0mfind_all\u001b[0m\u001b[1;33m(\u001b[0m\u001b[1;34m'table'\u001b[0m\u001b[1;33m,\u001b[0m\u001b[0mclass_\u001b[0m\u001b[1;33m=\u001b[0m\u001b[0msort\u001b[0m\u001b[1;33m.\u001b[0m\u001b[0mtbl\u001b[0m\u001b[1;33m)\u001b[0m\u001b[1;33m\u001b[0m\u001b[1;33m\u001b[0m\u001b[0m\n\u001b[0m\u001b[0;32m     11\u001b[0m \u001b[0mprint\u001b[0m\u001b[1;33m(\u001b[0m\u001b[0mtbl\u001b[0m\u001b[1;33m)\u001b[0m\u001b[1;33m\u001b[0m\u001b[1;33m\u001b[0m\u001b[0m\n",
      "\u001b[1;31mNameError\u001b[0m: name 'sort' is not defined"
     ]
    }
   ],
   "source": [
    "url=\"https://www.findandtrace.com/trace-mobile-number-location\"\n",
    "b=mechanize.Browser()\n",
    "b.set_handle_robots(False)\n",
    "b.open(url)\n",
    "b.select_form(name='trace')\n",
    "b['mobilenumber']='8388964352'\n",
    "res=b.submit()\n",
    "soup=BeautifulSoup(res.read(),'html.parser')\n",
    "#print(soup)\n",
    "tbl=soup.find_all('table',class_='sort.table')\n",
    "print(tbl)"
   ]
  },
  {
   "cell_type": "code",
   "execution_count": 10,
   "metadata": {},
   "outputs": [],
   "source": [
    "from bs4 import BeautifulSoup\n",
    "import requests\n",
    "\n",
    "website = \"https://schlechtewitze.com/kurze-witze\"\n",
    "website = \"https://www.where-am-i.net/\"\n",
    "\n",
    "source = requests.get(website).text\n",
    "soup = BeautifulSoup(source, 'lxml')\n",
    "\n",
    "for div in soup.find_all('div', class_ = \"location\"):\n",
    "    summary = div.p.text\n",
    "    print(summary)\n",
    "    print()"
   ]
  },
  {
   "cell_type": "code",
   "execution_count": 9,
   "metadata": {},
   "outputs": [
    {
     "name": "stdout",
     "output_type": "stream",
     "text": [
      "[12.9719, 77.5937]\n"
     ]
    }
   ],
   "source": [
    "\n",
    "import geocoder\n",
    "g = geocoder.ip('me')\n",
    "print(g.latlng)"
   ]
  },
  {
   "cell_type": "code",
   "execution_count": 7,
   "metadata": {},
   "outputs": [
    {
     "name": "stdout",
     "output_type": "stream",
     "text": [
      "Mobile Phone: 8904323240\n",
      "Telecoms Circle / State Karnataka\n",
      "Network : TATA DOCOMO\n",
      "Service Type / Signal: GSM\n",
      "Connection Status:  LIVE - Active \n",
      "+91 8904323240 - SIM card distributed at   Bangalore, Hubballi-Dharwad, Mysore, Gulbarga, Belgaum,  Mangalore\n",
      "Circle Capital : Bengaluru\n",
      "Main Language in the telecoms circle : Kannada\n",
      "Local time at phone location : 04/04/21 20:54:41 : Hours\n"
     ]
    }
   ],
   "source": [
    "# import libraries\n",
    "from bs4 import BeautifulSoup\n",
    "import mechanize\n",
    " \n",
    " \n",
    "mc = mechanize.Browser()\n",
    "mc.set_handle_robots(False)\n",
    " \n",
    "url = 'https://www.findandtrace.com/trace-mobile-number-location'\n",
    "mc.open(url)\n",
    " \n",
    "mc.select_form(name='trace')\n",
    "mc['mobilenumber'] = '8904323240' # Enter a mobile number\n",
    "res = mc.submit().read()\n",
    " \n",
    "soup = BeautifulSoup(res,'html.parser')\n",
    "tbl = soup.find_all('table',class_='shop_table')\n",
    "#print(tbl)\n",
    " \n",
    " \n",
    "data = tbl[0].find('tfoot')\n",
    "c=0\n",
    "for i in data:\n",
    "    c+=1\n",
    "    if c in (1,4,6,8):\n",
    "        continue\n",
    "    th = i.find('th')\n",
    "    td = i.find('td')\n",
    "    print(th.text,td.text)\n",
    " \n",
    " \n",
    "data = tbl[1].find('tfoot')\n",
    "c=0\n",
    "for i in data:\n",
    "    c+=1\n",
    "    if c in (2,20,22,26): \n",
    "        th = i.find('th')\n",
    "        td = i.find('td')\n",
    "        print(th.text,td.text)"
   ]
  },
  {
   "cell_type": "code",
   "execution_count": null,
   "metadata": {},
   "outputs": [],
   "source": []
  }
 ],
 "metadata": {
  "kernelspec": {
   "display_name": "Python 3",
   "language": "python",
   "name": "python3"
  },
  "language_info": {
   "codemirror_mode": {
    "name": "ipython",
    "version": 3
   },
   "file_extension": ".py",
   "mimetype": "text/x-python",
   "name": "python",
   "nbconvert_exporter": "python",
   "pygments_lexer": "ipython3",
   "version": "3.7.1"
  }
 },
 "nbformat": 4,
 "nbformat_minor": 2
}
