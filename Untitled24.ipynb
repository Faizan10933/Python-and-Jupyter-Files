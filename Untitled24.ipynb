{
 "cells": [
  {
   "cell_type": "code",
   "execution_count": 10,
   "metadata": {},
   "outputs": [
    {
     "name": "stdout",
     "output_type": "stream",
     "text": [
      "        Name  Marks Grade\n",
      "0      Tokyo     89     A\n",
      "1     Berlin     97    A+\n",
      "2       Oslo     76     A\n",
      "3     Denver     54     C\n",
      "4        Rio     78     A\n",
      "5   Helsenki     56     C\n",
      "6    Nairobi     78     A\n",
      "7     Moscow     56     C\n",
      "8  Professor     98    A+\n",
      "A ->  4\n",
      "A+ ->  2\n",
      "C ->  3\n"
     ]
    }
   ],
   "source": [
    "#write a program to iterate containing name and marks an then calculate grade as per marksand add them to the grea column\n",
    "#marks>=90=a+\n",
    "#70-90=a\n",
    "#60-80=b\n",
    "#50-6=c\n",
    "#40-30=d\n",
    "import pandas as pd\n",
    "df=pd.read_csv('D:\\dataset\\Result.csv')\n",
    "s=pd.DataFrame(df)\n",
    "for(i,j) in s.iteritems():\n",
    "    #print(i,j)\n",
    "    l=len(j)\n",
    "    if i==\"Marks\":\n",
    "        x=[]\n",
    "        for k in range(l):\n",
    "            Marks=j[k]\n",
    "            if Marks>=90:\n",
    "                x.append('A+')\n",
    "            elif Marks<=90 and Marks>=70:\n",
    "                x.append('A')\n",
    "            elif Marks<=70 and Marks>=60:\n",
    "                x.append('B')\n",
    "            elif Marks<=60 and Marks>=50:\n",
    "                x.append('C')\n",
    "            elif Marks<=50 and Marks>=40:\n",
    "                x.append('D')\n",
    "            else:\n",
    "                x.append(\"F\")\n",
    "s[\"Grade\"]=x\n",
    "print(s)\n",
    "frequency={}\n",
    "for item in x:\n",
    "    if(item in frequency):\n",
    "        frequency[item]+=1\n",
    "    else:\n",
    "        frequency[item]=1\n",
    "for key, value in frequency.items():\n",
    "    print(\"% s -> % d\" %(key,value))"
   ]
  },
  {
   "cell_type": "code",
   "execution_count": null,
   "metadata": {},
   "outputs": [],
   "source": []
  }
 ],
 "metadata": {
  "kernelspec": {
   "display_name": "Python 3",
   "language": "python",
   "name": "python3"
  },
  "language_info": {
   "codemirror_mode": {
    "name": "ipython",
    "version": 3
   },
   "file_extension": ".py",
   "mimetype": "text/x-python",
   "name": "python",
   "nbconvert_exporter": "python",
   "pygments_lexer": "ipython3",
   "version": "3.7.1"
  }
 },
 "nbformat": 4,
 "nbformat_minor": 2
}
