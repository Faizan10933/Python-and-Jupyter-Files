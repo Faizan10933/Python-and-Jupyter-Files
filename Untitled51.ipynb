{
 "cells": [
  {
   "cell_type": "code",
   "execution_count": 8,
   "metadata": {},
   "outputs": [
    {
     "name": "stdout",
     "output_type": "stream",
     "text": [
      "1\n",
      "2\n",
      "8\n",
      "1\n"
     ]
    }
   ],
   "source": [
    "n=int(input())\n",
    "for i in range(n):\n",
    "    a=int(input())\n",
    "    b=int(input())\n",
    "    #for j in range(n):\n",
    "    if (j%2)!=0:\n",
    "        print(j)"
   ]
  },
  {
   "cell_type": "code",
   "execution_count": 1,
   "metadata": {},
   "outputs": [
    {
     "ename": "IndentationError",
     "evalue": "unexpected indent (<ipython-input-1-6e13277aff64>, line 14)",
     "output_type": "error",
     "traceback": [
      "\u001b[1;36m  File \u001b[1;32m\"<ipython-input-1-6e13277aff64>\"\u001b[1;36m, line \u001b[1;32m14\u001b[0m\n\u001b[1;33m    x,y = input().split()\u001b[0m\n\u001b[1;37m    ^\u001b[0m\n\u001b[1;31mIndentationError\u001b[0m\u001b[1;31m:\u001b[0m unexpected indent\n"
     ]
    }
   ],
   "source": [
    "def is_prime(x):\n",
    "\tif x > 1:\n",
    "\t\tn = x // 2\n",
    "\t\tfor i in range(2, n + 1):\n",
    "\t\t\tif x % i == 0:\n",
    "\t\t\t\treturn False\n",
    "\t\treturn True\n",
    "\telse:\n",
    "\t\treturn False\n",
    "\n",
    "def solution():\n",
    "    a=int(input())\n",
    "    for m in range(a):\n",
    "        x,y = input().split()\n",
    "        z=int(x)\n",
    "        p=int(y)\n",
    "        #y = int(input())\n",
    "        for n in range(z, p+1):\n",
    "            if is_prime(n):\n",
    "                print(n)\n",
    "\n",
    "solution()"
   ]
  },
  {
   "cell_type": "code",
   "execution_count": null,
   "metadata": {},
   "outputs": [],
   "source": []
  },
  {
   "cell_type": "code",
   "execution_count": null,
   "metadata": {},
   "outputs": [],
   "source": []
  }
 ],
 "metadata": {
  "kernelspec": {
   "display_name": "Python 3",
   "language": "python",
   "name": "python3"
  },
  "language_info": {
   "codemirror_mode": {
    "name": "ipython",
    "version": 3
   },
   "file_extension": ".py",
   "mimetype": "text/x-python",
   "name": "python",
   "nbconvert_exporter": "python",
   "pygments_lexer": "ipython3",
   "version": "3.7.1"
  }
 },
 "nbformat": 4,
 "nbformat_minor": 2
}
