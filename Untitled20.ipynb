{
 "cells": [
  {
   "cell_type": "code",
   "execution_count": 2,
   "metadata": {},
   "outputs": [],
   "source": [
    "from tkinter import *\n",
    "import tkinter\n",
    "from matplotlib.figure import Figure\n",
    "import matplotlib.pyplot as plt\n",
    "import matplotlib\n",
    "matplotlib.use('TkAgg')\n",
    "from matplotlib.backends.backend_tkagg import FigureCanvasTkAgg\n",
    "\n",
    "class Plot:\n",
    "    def __init__(self):\n",
    "        self.root=Tk()\n",
    "        self.root.geometry('500x500')\n",
    "        self.root.resizable(False,False)\n",
    "        self.root.title('plot')\n",
    "        self.b1=Button(self.root,text='Plot',width=10,height=2,command=self.plot_map)\n",
    "        self.b1.pack()\n",
    "        self.root.mainloop()\n",
    "        \n",
    "    def plot_map(self):\n",
    "        fig=Figure(figsize=(5,4),dpi=100)\n",
    "        x=[0,1,2,3,4,5]\n",
    "        y=[10,17,23,37,13,21]\n",
    "        fig.add_subplot(121).pie(y,labels=x) #bar(x,y) #plot(x,y)\n",
    "        fig.add_subplot(122).bar(x,y)\n",
    "        canvas=FigureCanvasTkAgg(fig,master=self.root)\n",
    "        canvas.draw()\n",
    "        canvas.get_tk_widget().pack()\n",
    "obj=Plot()\n",
    "            "
   ]
  },
  {
   "cell_type": "code",
   "execution_count": null,
   "metadata": {},
   "outputs": [],
   "source": []
  }
 ],
 "metadata": {
  "kernelspec": {
   "display_name": "Python 3",
   "language": "python",
   "name": "python3"
  },
  "language_info": {
   "codemirror_mode": {
    "name": "ipython",
    "version": 3
   },
   "file_extension": ".py",
   "mimetype": "text/x-python",
   "name": "python",
   "nbconvert_exporter": "python",
   "pygments_lexer": "ipython3",
   "version": "3.7.1"
  }
 },
 "nbformat": 4,
 "nbformat_minor": 2
}
