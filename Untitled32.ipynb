{
 "cells": [
  {
   "cell_type": "code",
   "execution_count": null,
   "metadata": {},
   "outputs": [],
   "source": [
    "def MYname():\n",
    "    name=\"Faizan\"\n",
    "    print(name)\n",
    "MYname()"
   ]
  },
  {
   "cell_type": "code",
   "execution_count": null,
   "metadata": {},
   "outputs": [],
   "source": [
    "def Sum():\n",
    "    a=20\n",
    "    b=30\n",
    "    sum=a+b\n",
    "Sum()"
   ]
  },
  {
   "cell_type": "code",
   "execution_count": null,
   "metadata": {},
   "outputs": [],
   "source": [
    "def Sum()\n",
    "x=input(\"Enter a number\")\n",
    "y=input(\"Type 2nd number\")\n",
    "sum=int(x)+int(y)\n",
    "print(sum)"
   ]
  },
  {
   "cell_type": "code",
   "execution_count": null,
   "metadata": {},
   "outputs": [],
   "source": [
    "def Sum(*n):\n",
    "    s=0\n",
    "    for i in n:\n",
    "        s=s+i\n",
    "    print(s)\n",
    "\n",
    "Sum(10,20,30)"
   ]
  },
  {
   "cell_type": "code",
   "execution_count": null,
   "metadata": {},
   "outputs": [],
   "source": [
    "def rev(n):\n",
    "    r=0\n",
    "    while n>0:\n",
    "        a=n%10\n",
    "        r=r*10+a\n",
    "        n=n//10\n",
    "    return r\n",
    "n=int(input('Enter a No'))\n",
    "while True:\n",
    "    if n==rev(n):\n",
    "        print(n)\n",
    "        break\n",
    "    n+=rev(n)\n",
    "\n",
    "    "
   ]
  },
  {
   "cell_type": "code",
   "execution_count": null,
   "metadata": {},
   "outputs": [],
   "source": [
    "import turtle\n",
    "fzn_turtle=turtle.Turtle()\n",
    "fzn_turtle.forward(100)\n",
    "fzn_turtle.right(100)"
   ]
  },
  {
   "cell_type": "code",
   "execution_count": null,
   "metadata": {},
   "outputs": [],
   "source": [
    "x,y=input(\"Enter two string: \").split()\n",
    "print(x)\n",
    "print(y)"
   ]
  },
  {
   "cell_type": "code",
   "execution_count": 3,
   "metadata": {},
   "outputs": [
    {
     "name": "stdout",
     "output_type": "stream",
     "text": [
      "Enter A stringMy name is Faian\n",
      "Word \t Length \t  Vowels \t Consonent\n",
      "My\t2 \t 0 \t 2\n",
      "name\t4 \t 2 \t 2\n",
      "is\t2 \t 1 \t 1\n",
      "Faian\t5 \t 3 \t 2\n"
     ]
    }
   ],
   "source": [
    "def vowel(s):\n",
    "    c=0\n",
    "    for i in s:\n",
    "        if i.lower() in 'aeiou':\n",
    "            c+=1\n",
    "    return c\n",
    "x=input(\"Enter A string\")\n",
    "vowels=0\n",
    "#consonents=0\n",
    "print('Word \\t Length \\t  Vowels \\t Consonent')\n",
    "L=x.split()\n",
    "for i in L:\n",
    "    print(i,end='\\t')\n",
    "    x=len(i)\n",
    "    v=vowel(i)\n",
    "    c=x-v\n",
    "    print(x,'\\t',v,'\\t',c)\n",
    "    \n",
    "\n"
   ]
  },
  {
   "cell_type": "code",
   "execution_count": null,
   "metadata": {},
   "outputs": [],
   "source": []
  },
  {
   "cell_type": "code",
   "execution_count": null,
   "metadata": {},
   "outputs": [],
   "source": []
  }
 ],
 "metadata": {
  "kernelspec": {
   "display_name": "Python 3",
   "language": "python",
   "name": "python3"
  },
  "language_info": {
   "codemirror_mode": {
    "name": "ipython",
    "version": 3
   },
   "file_extension": ".py",
   "mimetype": "text/x-python",
   "name": "python",
   "nbconvert_exporter": "python",
   "pygments_lexer": "ipython3",
   "version": "3.7.1"
  }
 },
 "nbformat": 4,
 "nbformat_minor": 2
}
