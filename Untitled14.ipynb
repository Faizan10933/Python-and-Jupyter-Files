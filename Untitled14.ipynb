{
 "cells": [
  {
   "cell_type": "code",
   "execution_count": 1,
   "metadata": {},
   "outputs": [],
   "source": [
    "from tkinter import *\n",
    "class App:\n",
    "    def __init__(self):\n",
    "        self.root=Tk()\n",
    "        self.root.geometry('500x500')\n",
    "        self.s=Scale(self.root,label='C',from_=0,to=100,orient=VERTICAL,length=200,command=self.show)\n",
    "        self.s.grid(row=0,column=0)\n",
    "       # self.s.pack()\n",
    "        self.s1=Scale(self.root,label='F',from_=0,to=100,orient=VERTICAL,length=200,command=self.show)\n",
    "        self.s1.grid(row=0,column=1)\n",
    "     #   self.s1.pack()\n",
    "        self.L=Label(self.root,text='Hi')\n",
    "    #    self.L.pack()\n",
    "        self.root.mainloop()\n",
    "    def show(self,value):\n",
    "        self.L.config(text='selected value='+str(value))\n",
    "        \n",
    "obj=App()"
   ]
  },
  {
   "cell_type": "code",
   "execution_count": null,
   "metadata": {},
   "outputs": [],
   "source": []
  },
  {
   "cell_type": "code",
   "execution_count": null,
   "metadata": {},
   "outputs": [],
   "source": []
  }
 ],
 "metadata": {
  "kernelspec": {
   "display_name": "Python 3",
   "language": "python",
   "name": "python3"
  },
  "language_info": {
   "codemirror_mode": {
    "name": "ipython",
    "version": 3
   },
   "file_extension": ".py",
   "mimetype": "text/x-python",
   "name": "python",
   "nbconvert_exporter": "python",
   "pygments_lexer": "ipython3",
   "version": "3.7.1"
  }
 },
 "nbformat": 4,
 "nbformat_minor": 2
}
