{
 "cells": [
  {
   "cell_type": "code",
   "execution_count": 4,
   "metadata": {},
   "outputs": [
    {
     "name": "stdout",
     "output_type": "stream",
     "text": [
      "<VirtualEvent event x=0 y=0>\n",
      "{'active': 2705, 'confirmed': 29365, 'deceased': 471, 'recovered': 26189}\n"
     ]
    }
   ],
   "source": [
    "from tkinter import *\n",
    "from tkinter import ttk\n",
    "import json\n",
    "import matplotlib.pyplot as plt\n",
    "from matplotlib.figure import Figure\n",
    "import matplotlib\n",
    "from matplotlib.backends.backend_tkagg import FigureCanvasTkAgg\n",
    "import tkinter\n",
    "\n",
    "class Covid:\n",
    "    def __init__(self):\n",
    "        self.root=Tk()\n",
    "        self.root.geometry('500x800')\n",
    "        self.root.title('Covid Graph')\n",
    "        L1=Label(self.root,text='covid 19 update',font=('arial black',40))\n",
    "        L1.grid(row=0,column=0,columnspan=2,padx=10,pady=10)\n",
    "        L2=Label(self.root,text='Select State',font=('arial black',12))\n",
    "        L2.grid(row=1,column=0,padx=10,pady=10)\n",
    "        \n",
    "        with open('covid.json') as f:\n",
    "            self.data=json.load(f)\n",
    "            self.sname=list(self.data.keys())\n",
    "        self.state=ttk.Combobox(self.root,values=self.sname)\n",
    "        self.state.grid(row=1,column=1,padx=10,pady=10)\n",
    "        self.state.bind('<<ComboboxSelected>>',self.getDistName)\n",
    "        \n",
    "        self.root.mainloop()\n",
    "    def getDistName(self,e):\n",
    "        print(e)\n",
    "        self.state_name=self.state.get()\n",
    "        L3=Label(self.root,text='Select Dist',font=('arial black',12))\n",
    "        L3.grid(row=2,column=0,padx=10,pady=10)\n",
    "        L=list(self.data[self.state_name]['districtData'].keys())\n",
    "        self.dist=ttk.Combobox(self.root,values=L)\n",
    "        self.dist.grid(row=2,column=1,padx=10,pady=10)\n",
    "        self.dist.bind('<<ComboboxSelected>>',self.getDistData)\n",
    "    def getDistData(self,e):\n",
    "        dname=self.dist.get()\n",
    "        self.d={'active':0,'confirmed':0,'deceased':0,'recovered':0}\n",
    "        for i in self.d:\n",
    "            if i in self.data[self.state_name]['districtData'][dname]:\n",
    "                self.d[i]=self.data[self.state_name]['districtData'][dname][i]\n",
    "        print(self.d)\n",
    "        self.plot()\n",
    "        \n",
    "    def plot(self):\n",
    "        fig=Figure(figsize=(5,4),dpi=100)\n",
    "        x=list(self.d.keys())\n",
    "        y=list(self.d.values())\n",
    "        #fig.add_subplot(111).pie(y,labels=x,autopct='%.2f%%') # for pie chart\n",
    "        fig.add_subplot(151).bar(x,y)        # for bar chart\n",
    "        #fig.add_subplot(111).plot(x,y) #- for line chat\n",
    "        canvas=FigureCanvasTkAgg(fig,master=self.root)\n",
    "        canvas.draw()\n",
    "        canvas.get_tk_widget().grid(row=3,column=0,columnspan=2)\n",
    "\n",
    "        \n",
    "obj=Covid()"
   ]
  },
  {
   "cell_type": "code",
   "execution_count": 41,
   "metadata": {},
   "outputs": [
    {
     "name": "stdout",
     "output_type": "stream",
     "text": [
      "['Andaman and Nicobar Islands', 'Andhra Pradesh', 'Arunachal Pradesh', 'Assam', 'Bihar', 'Chandigarh', 'Chhattisgarh', 'Delhi', 'Dadra and Nagar Haveli and Daman and Diu', 'Goa', 'Gujarat', 'Himachal Pradesh', 'Haryana', 'Jharkhand', 'Jammu and Kashmir', 'Karnataka', 'Kerala', 'Ladakh', 'Lakshadweep', 'Maharashtra', 'Meghalaya', 'Manipur', 'Madhya Pradesh', 'Mizoram', 'Nagaland', 'Odisha', 'Punjab', 'Puducherry', 'Rajasthan', 'Sikkim', 'Telangana', 'Tamil Nadu', 'Tripura', 'Uttar Pradesh', 'Uttarakhand', 'West Bengal']\n",
      "dict_keys(['Nicobars', 'North and Middle Andaman', 'South Andaman', 'Unknown'])\n"
     ]
    }
   ],
   "source": [
    "import json\n",
    "with open('covid.json') as f:\n",
    "        data=json.load(f)\n",
    "        L=list(data.keys())\n",
    "        print(L)\n",
    "        print(data['Andaman and Nicobar Islands]['districtData'].keys())"
   ]
  }
 ],
 "metadata": {
  "kernelspec": {
   "display_name": "Python 3",
   "language": "python",
   "name": "python3"
  },
  "language_info": {
   "codemirror_mode": {
    "name": "ipython",
    "version": 3
   },
   "file_extension": ".py",
   "mimetype": "text/x-python",
   "name": "python",
   "nbconvert_exporter": "python",
   "pygments_lexer": "ipython3",
   "version": "3.7.1"
  }
 },
 "nbformat": 4,
 "nbformat_minor": 2
}
