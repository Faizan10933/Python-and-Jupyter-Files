{
 "cells": [
  {
   "cell_type": "code",
   "execution_count": 6,
   "metadata": {},
   "outputs": [
    {
     "ename": "SyntaxError",
     "evalue": "invalid syntax (<ipython-input-6-af570e191fe1>, line 8)",
     "output_type": "error",
     "traceback": [
      "\u001b[1;36m  File \u001b[1;32m\"<ipython-input-6-af570e191fe1>\"\u001b[1;36m, line \u001b[1;32m8\u001b[0m\n\u001b[1;33m    print(s.[s>=90000])\u001b[0m\n\u001b[1;37m            ^\u001b[0m\n\u001b[1;31mSyntaxError\u001b[0m\u001b[1;31m:\u001b[0m invalid syntax\n"
     ]
    }
   ],
   "source": [
    "import pandas as pd\n",
    "import random\n",
    "l=[random.randint(10000,99999) for i in range(10)]\n",
    "s=pd.Series(l)\n",
    "print(s)\n",
    "print(s.sort_values(ascending=True).head(3))\n",
    "print(s.sort_values(ascending=True).tail(3))\n",
    "#print(s.[s>=90000])\n"
   ]
  },
  {
   "cell_type": "code",
   "execution_count": 11,
   "metadata": {},
   "outputs": [
    {
     "name": "stdout",
     "output_type": "stream",
     "text": [
      "      Name Marks Subject\n",
      "0    Guddu    89     Eng\n",
      "1  Muqbool    68    Math\n",
      "2    lalit    78     sci\n",
      "3    Munna    76     His\n",
      "4   kaleen    98    comp\n"
     ]
    }
   ],
   "source": [
    "d={'Name':['Guddu','Muqbool','lalit','Munna','kaleen'],'Marks':['89','68','78','76','98'],'Subject':['Eng','Math','sci','His','comp']}\n",
    "s=pd.DataFrame(d)\n",
    "print(s)"
   ]
  },
  {
   "cell_type": "code",
   "execution_count": 12,
   "metadata": {},
   "outputs": [
    {
     "name": "stdout",
     "output_type": "stream",
     "text": [
      "     POPULATION  AVGINCOME\n",
      "KOL     9783705   68485935\n",
      "MUM     6161449   43130143\n",
      "DEL     7300849   51105943\n",
      "DGP     1778267   12447869\n",
      "BLR     6726544   47085808\n",
      "Index(['POPULATION', 'AVGINCOME'], dtype='object')\n",
      "[Index(['KOL', 'MUM', 'DEL', 'DGP', 'BLR'], dtype='object'), Index(['POPULATION', 'AVGINCOME'], dtype='object')]\n",
      "POPULATION    int64\n",
      "AVGINCOME     int32\n",
      "dtype: object\n",
      "10\n",
      "(5, 2)\n",
      "2\n",
      "False\n",
      "<bound method DataFrame.count of      POPULATION  AVGINCOME\n",
      "KOL     9783705   68485935\n",
      "MUM     6161449   43130143\n",
      "DEL     7300849   51105943\n",
      "DGP     1778267   12447869\n",
      "BLR     6726544   47085808>\n",
      "                 KOL       MUM       DEL       DGP       BLR\n",
      "POPULATION   9783705   6161449   7300849   1778267   6726544\n",
      "AVGINCOME   68485935  43130143  51105943  12447869  47085808\n",
      "9783705\n",
      "1778267\n"
     ]
    }
   ],
   "source": [
    "import numpy as np\n",
    "import pandas  as pd\n",
    "import random\n",
    "city=['KOL','MUM','DEL','DGP','BLR']\n",
    "p=[random.randint(1000000,9999999) for i in range(5)]\n",
    "#s=pd.Series(p)\n",
    "#print(s)\n",
    "population=pd.Series(p,city)\n",
    "income=np.array(p)\n",
    "income=income*7\n",
    "avgincome=pd.Series(income,city)\n",
    "d={'POPULATION':population,'AVGINCOME':avgincome}\n",
    "df=pd.DataFrame(d)\n",
    "print(df)\n",
    "print(df.columns)\n",
    "print(df.axes)\n",
    "print(df.dtypes)\n",
    "print(df.size)\n",
    "#print(df.attributes)\n",
    "print(df.shape)\n",
    "print(df.ndim)\n",
    "print(df.empty)\n",
    "#print(df.hasnans)\n",
    "print(df.count)\n",
    "df1=df.T\n",
    "print(df1)\n",
    "print(df.at['KOL','POPULATION'])\n",
    "print(df.iat[3,0])"
   ]
  },
  {
   "cell_type": "code",
   "execution_count": null,
   "metadata": {},
   "outputs": [],
   "source": []
  }
 ],
 "metadata": {
  "kernelspec": {
   "display_name": "Python 3",
   "language": "python",
   "name": "python3"
  },
  "language_info": {
   "codemirror_mode": {
    "name": "ipython",
    "version": 3
   },
   "file_extension": ".py",
   "mimetype": "text/x-python",
   "name": "python",
   "nbconvert_exporter": "python",
   "pygments_lexer": "ipython3",
   "version": "3.7.1"
  }
 },
 "nbformat": 4,
 "nbformat_minor": 2
}
