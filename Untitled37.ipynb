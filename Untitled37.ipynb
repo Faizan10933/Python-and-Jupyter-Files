{
 "cells": [
  {
   "cell_type": "code",
   "execution_count": null,
   "metadata": {},
   "outputs": [],
   "source": [
    "import cv2\n",
    "from skimage.io import imread\n",
    "img=cv2.imread(\"C:\\\\Users\\\\FAIZAN\\\\Desktop\\\\ProImage\\\\Apple.jpg\")\n",
    "img_gray=cv2.cvtColor(img,cv2.COLOR_BGR2GRAY)\n",
    "img=cv2.resize(img,(500,500))\n",
    "img_gray=imread(img,as_gray=True)\n",
    "cv2.imshow('img_gray',img)\n",
    "cv2.waitKey()\n",
    "cv2.destroyAllWindows()"
   ]
  },
  {
   "cell_type": "code",
   "execution_count": null,
   "metadata": {},
   "outputs": [],
   "source": [
    "import cv2\n",
    "img = cv2.imread('C:\\\\Users\\\\FAIZAN\\\\Desktop\\\\ProImage\\\\Plate.jpg')\n",
    "img2=cv2.cvtColor(img,cv2.COLOR_BGR2GRAY)\n",
    "img=cv2.resize(img,(500,500))\n",
    "img1 = cv2.Canny(img,100,200)\n",
    "_,thrash=cv2.threshold(img1,240,255,cv2.THRESH_BINARY)\n",
    "_,contours,_=cv2.findContours(thrash,cv2.RETR_TREE,cv2.CHAIN_APPROX_NONE)\n",
    "cnts=sorted(contours, key=cv2.contourArea, reverse=True)[:20]\n",
    "for contour in contours:\n",
    "    approx=cv2.approxPolyDP(contour,0.01*cv2.arcLength(contour,True),True)\n",
    "    cv2.drawContours(img2,[approx],0,(0,0,0),5)\n",
    "    if len(approx)==4:\n",
    "        x,y,w,h=cv2.boundingRect(approx)\n",
    "        cv2.rectangle(img,(x,y),(w,h),(0,0,255),3)\n",
    "        break\n",
    "#cv2.imshow('image',img)\n",
    "#cv2.imshow('Canny',img1)\n",
    "cv2.imshow('Shapes',img)\n",
    "cv2.waitKey(0)\n",
    "cv2.destroyAllWindows()"
   ]
  },
  {
   "cell_type": "code",
   "execution_count": null,
   "metadata": {},
   "outputs": [],
   "source": []
  },
  {
   "cell_type": "code",
   "execution_count": null,
   "metadata": {},
   "outputs": [],
   "source": []
  }
 ],
 "metadata": {
  "kernelspec": {
   "display_name": "Python 3",
   "language": "python",
   "name": "python3"
  },
  "language_info": {
   "codemirror_mode": {
    "name": "ipython",
    "version": 3
   },
   "file_extension": ".py",
   "mimetype": "text/x-python",
   "name": "python",
   "nbconvert_exporter": "python",
   "pygments_lexer": "ipython3",
   "version": "3.7.1"
  }
 },
 "nbformat": 4,
 "nbformat_minor": 2
}
