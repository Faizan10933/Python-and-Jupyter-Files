{
 "cells": [
  {
   "cell_type": "code",
   "execution_count": 7,
   "metadata": {},
   "outputs": [
    {
     "name": "stdout",
     "output_type": "stream",
     "text": [
      "class: BCA\n",
      "name= A\n",
      "roll= 1\n",
      "marks= 50\n"
     ]
    }
   ],
   "source": [
    "class student:\n",
    "    c='BCA'\n",
    "    def __init__(self,name,roll,marks):\n",
    "        self.name=name\n",
    "        self.roll=roll\n",
    "        self.marks=marks\n",
    "    def show(self):\n",
    "        print('name=',self.name)\n",
    "        print('roll=',self.roll)\n",
    "        print('marks=',self.marks)\n",
    "        \n",
    "s1=student('A',1,50)\n",
    "print('class:',student.c)\n",
    "s1.show()"
   ]
  },
  {
   "cell_type": "code",
   "execution_count": null,
   "metadata": {},
   "outputs": [],
   "source": []
  }
 ],
 "metadata": {
  "kernelspec": {
   "display_name": "Python 3",
   "language": "python",
   "name": "python3"
  },
  "language_info": {
   "codemirror_mode": {
    "name": "ipython",
    "version": 3
   },
   "file_extension": ".py",
   "mimetype": "text/x-python",
   "name": "python",
   "nbconvert_exporter": "python",
   "pygments_lexer": "ipython3",
   "version": "3.7.1"
  }
 },
 "nbformat": 4,
 "nbformat_minor": 2
}
