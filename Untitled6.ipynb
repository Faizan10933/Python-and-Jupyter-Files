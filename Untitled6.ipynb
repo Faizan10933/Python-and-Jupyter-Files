{
 "cells": [
  {
   "cell_type": "code",
   "execution_count": 2,
   "metadata": {},
   "outputs": [
    {
     "ename": "SyntaxError",
     "evalue": "invalid syntax (<ipython-input-2-e244f5088251>, line 17)",
     "output_type": "error",
     "traceback": [
      "\u001b[1;36m  File \u001b[1;32m\"<ipython-input-2-e244f5088251>\"\u001b[1;36m, line \u001b[1;32m17\u001b[0m\n\u001b[1;33m    lbl1=Label(root,text='First No'),bg='purple',fg='white').gridrow=0,column=0,padx=10,pady=10,sticky=E,columnspan=2)\u001b[0m\n\u001b[1;37m                                                           ^\u001b[0m\n\u001b[1;31mSyntaxError\u001b[0m\u001b[1;31m:\u001b[0m invalid syntax\n"
     ]
    }
   ],
   "source": [
    "from tkinter import*\n",
    "from tkinter import messagebox\n",
    "def calc_sum():\n",
    "        a=txt1.get()\n",
    "        if len(a)==0:\n",
    "                    messagebox.showerror('calculator','Enter First No')\n",
    "                    retur\n",
    "                    b=txt2.get()\n",
    "                    c=int(a)+int(b)\n",
    "                    txt3.insert(0,c)\n",
    "                    root=Tk()\n",
    "                    root.geometry('50x300')\n",
    "                    root.title('A SIMPLE CALCULATOR')\n",
    "                    rooot.resizable(False,False)\n",
    "                    #root.configure(bg='black')\n",
    "                    root['bg']='purple'\n",
    "                    lbl1=Label(root,text='First No'),bg='purple',fg='white').gridrow=0,column=0,padx=10,pady=10,sticky=E,columnspan=2)\n",
    "                    txt1=Entry(root)\n",
    "                    txt1.grid(row=0.column=2,padx=10,pady=10,columnspan=2)"
   ]
  },
  {
   "cell_type": "code",
   "execution_count": null,
   "metadata": {},
   "outputs": [],
   "source": []
  }
 ],
 "metadata": {
  "kernelspec": {
   "display_name": "Python 3",
   "language": "python",
   "name": "python3"
  },
  "language_info": {
   "codemirror_mode": {
    "name": "ipython",
    "version": 3
   },
   "file_extension": ".py",
   "mimetype": "text/x-python",
   "name": "python",
   "nbconvert_exporter": "python",
   "pygments_lexer": "ipython3",
   "version": "3.7.1"
  }
 },
 "nbformat": 4,
 "nbformat_minor": 2
}
