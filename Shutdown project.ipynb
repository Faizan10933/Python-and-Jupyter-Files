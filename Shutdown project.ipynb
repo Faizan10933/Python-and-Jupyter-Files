{
 "cells": [
  {
   "cell_type": "code",
   "execution_count": null,
   "metadata": {
    "scrolled": true
   },
   "outputs": [
    {
     "name": "stdout",
     "output_type": "stream",
     "text": [
      "Listening\n"
     ]
    }
   ],
   "source": [
    "# Importing required modules\n",
    "# importing pyttsx3\n",
    "import pyttsx3\n",
    "# importing speech_recognition\n",
    "import speech_recognition as sr\n",
    "# importing os module\n",
    "import os\n",
    "#import Pyaudio\n",
    "\n",
    "# creating take_commands() function which\n",
    "# can take some audio, Recognize and return\n",
    "# if there are not any errors\n",
    "def take_commands():\n",
    "    # initializing speech_recognition\n",
    "    r = sr.Recognizer()\n",
    "    # opening physical microphone of computer\n",
    "    with sr.Microphone() as source:\n",
    "        print('Listening')\n",
    "        r.pause_threshold = 0.7\n",
    "        # storing audio/sound to audio variable\n",
    "        audio = r.listen(source)\n",
    "        try:\n",
    "            print(\"Recognizing\")\n",
    "            # Recognizing audio using google api\n",
    "            Query = r.recognize_google(audio)\n",
    "            print(\"the query is printed='\", Query, \"'\")\n",
    "        except Exception as e:\n",
    "            print(e)\n",
    "            print(\"Say that again sir\")\n",
    "            # returning none if there are errors\n",
    "            return \"None\"\n",
    "    # returning audio as text\n",
    "    import time\n",
    "    time.sleep(2)\n",
    "    return Query\n",
    "\n",
    "\n",
    "# creating Speak() function to giving Speaking power\n",
    "# to our voice assistant\n",
    "def Speak(audio):\n",
    "    # initializing pyttsx3 module\n",
    "    engine = pyttsx3.init()\n",
    "    # anything we pass inside engine.say(),\n",
    "    # will be spoken by our voice assistant\n",
    "    engine.say(audio)\n",
    "    engine.runAndWait()\n",
    "\n",
    "Speak(\"Do you want to shutdown your computer sir?\")\n",
    "while True:\n",
    "    command = take_commands()\n",
    "    if \"no\" in command:\n",
    "        Speak(\"Thank u sir I will not shut down the computer\")\n",
    "        break\n",
    "    if \"yes\" in command:\n",
    "        # Shutting down\n",
    "        Speak(\"Shutting the computer\")\n",
    "        os.system(\"shutdown /s /t 30\")\n",
    "        break\n",
    "    Speak(\"Say that again sir\")\n",
    "    \n",
    "if __name__=='__main__':\n",
    "    Maam = pythonhub()\n",
    "    Maam.quitSelf()"
   ]
  },
  {
   "cell_type": "code",
   "execution_count": null,
   "metadata": {},
   "outputs": [],
   "source": []
  },
  {
   "cell_type": "code",
   "execution_count": null,
   "metadata": {},
   "outputs": [],
   "source": []
  }
 ],
 "metadata": {
  "kernelspec": {
   "display_name": "Python 3",
   "language": "python",
   "name": "python3"
  },
  "language_info": {
   "codemirror_mode": {
    "name": "ipython",
    "version": 3
   },
   "file_extension": ".py",
   "mimetype": "text/x-python",
   "name": "python",
   "nbconvert_exporter": "python",
   "pygments_lexer": "ipython3",
   "version": "3.7.1"
  }
 },
 "nbformat": 4,
 "nbformat_minor": 2
}
