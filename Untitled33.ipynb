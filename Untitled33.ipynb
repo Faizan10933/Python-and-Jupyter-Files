{
 "cells": [
  {
   "cell_type": "code",
   "execution_count": 1,
   "metadata": {},
   "outputs": [],
   "source": [
    "import cv2\n",
    "import numpy as np\n"
   ]
  },
  {
   "cell_type": "code",
   "execution_count": null,
   "metadata": {},
   "outputs": [],
   "source": [
    "img=np.zeros((512,512,3),np.uint8)\n",
    "cv2.line(img,(0,0),(512,512),(0,0,255),5)\n",
    "cv2.line(img,(0,512),(512,0),(0,255,0),5)\n",
    "cv2.circle(img,(250,250),50,(255,0,0),cv2.FILLED)\n",
    "cv2.rectangle(img,(0,0),(200,200),(0,255,120),3)\n",
    "cv2.imshow('image',img)\n",
    "cv2.waitKey(0)\n",
    "cv2.destroyAllWindows()"
   ]
  },
  {
   "cell_type": "code",
   "execution_count": 2,
   "metadata": {},
   "outputs": [],
   "source": [
    "img=np.zeros((800,800,3),np.uint8)\n",
    "x,y=0,0\n",
    "w=100\n",
    "while True:\n",
    "    for i in range(0,9):\n",
    "        x=0\n",
    "        for j in range(0,9):\n",
    "            cv2.rectangle(img,(x,y),(w,w),(255,255,255),2)\n",
    "            x=x+w\n",
    "        y=y+w\n",
    "    cv2.imshow('image',img)\n",
    "    k=cv2.waitKey(1) & 0XFF\n",
    "    if k==27:\n",
    "        break\n",
    "cv2.destroyAllWindows()"
   ]
  },
  {
   "cell_type": "code",
   "execution_count": null,
   "metadata": {},
   "outputs": [],
   "source": []
  }
 ],
 "metadata": {
  "kernelspec": {
   "display_name": "Python 3",
   "language": "python",
   "name": "python3"
  },
  "language_info": {
   "codemirror_mode": {
    "name": "ipython",
    "version": 3
   },
   "file_extension": ".py",
   "mimetype": "text/x-python",
   "name": "python",
   "nbconvert_exporter": "python",
   "pygments_lexer": "ipython3",
   "version": "3.7.1"
  }
 },
 "nbformat": 4,
 "nbformat_minor": 2
}
