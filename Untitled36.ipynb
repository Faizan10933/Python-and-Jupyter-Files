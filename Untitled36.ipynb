{
 "cells": [
  {
   "cell_type": "code",
   "execution_count": null,
   "metadata": {},
   "outputs": [],
   "source": [
    "import cv2\n",
    "img=cv2.imread(\"C:\\\\Users\\\\FAIZAN\\\\Desktop\\\\ProImage\\\\paint.jpg\")\n",
    "img_gray=cv2.cvtColor(img,cv2.COLOR_BGR2GRAY)\n",
    "img=cv2.resize(img,(500,500))\n",
    "img_gray=cv2.resize(img_gray,(500,500))\n",
    "_,thrash=cv2.threshold(img_gray,240,255,cv2.THRESH_BINARY)\n",
    "_,contours,_=cv2.findContours(thrash,cv2.RETR_TREE,cv2.CHAIN_APPROX_NONE)\n",
    "for contour in contours:\n",
    "    approx=cv2.approxPolyDP(contour,0.01*cv2.arcLength(contour,True),True)\n",
    "    cv2.drawContours(img,[approx],0,(0,0,0),5)\n",
    "    x=approx.ravel()[0]\n",
    "    y=approx.ravel()[1]-5\n",
    "    if len(approx)==3:\n",
    "        cv2.putText(img,'Triangle',(x,y),cv2.FONT_HERSHEY_COMPLEX,0.5,(0,0,0))\n",
    "    elif len(approx)==4:\n",
    "        x,y,w,h=cv2.boundingRect(approx)\n",
    "        aspectRatio=float(w)/h\n",
    "        if aspectRatio>=0.95 and aspectRatio<=1.05:\n",
    "            cv2.putText(img,'Square',(x,y),cv2.FONT_HERSHEY_COMPLEX,0.5,(0,0,0))\n",
    "        else:\n",
    "            cv2.putText(img,'Rectangle',(x,y),cv2.FONT_HERSHEY_COMPLEX,0.5,(0,0,0))\n",
    "    elif len(approx)==5:\n",
    "         cv2.putText(img,'Pentagon',(x,y),cv2.FONT_HERSHEY_COMPLEX,0.5,(0,0,0))\n",
    "    elif len(approx)==12:\n",
    "         cv2.putText(img,'Star',(x,y),cv2.FONT_HERSHEY_COMPLEX,0.5,(0,0,0))\n",
    "    else:\n",
    "         cv2.putText(img,'Circle',(x,y),cv2.FONT_HERSHEY_COMPLEX,0.5,(0,0,0))\n",
    "cv2.imshow('shapes',img)\n",
    "cv2.waitKey()\n",
    "cv2.destroyAllWindows()\n",
    "#print(contours)\n",
    "#cv2.imshow('gray',contours)\n",
    "cv2.waitKey(0)\n",
    "cv2.destroyAllWindows()"
   ]
  },
  {
   "cell_type": "code",
   "execution_count": null,
   "metadata": {},
   "outputs": [],
   "source": []
  }
 ],
 "metadata": {
  "kernelspec": {
   "display_name": "Python 3",
   "language": "python",
   "name": "python3"
  },
  "language_info": {
   "codemirror_mode": {
    "name": "ipython",
    "version": 3
   },
   "file_extension": ".py",
   "mimetype": "text/x-python",
   "name": "python",
   "nbconvert_exporter": "python",
   "pygments_lexer": "ipython3",
   "version": "3.7.1"
  }
 },
 "nbformat": 4,
 "nbformat_minor": 2
}
