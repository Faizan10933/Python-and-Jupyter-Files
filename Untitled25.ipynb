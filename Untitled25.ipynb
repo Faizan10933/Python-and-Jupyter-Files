{
 "cells": [
  {
   "cell_type": "code",
   "execution_count": 1,
   "metadata": {},
   "outputs": [
    {
     "ename": "SyntaxError",
     "evalue": "invalid syntax (<ipython-input-1-e61abffe0289>, line 6)",
     "output_type": "error",
     "traceback": [
      "\u001b[1;36m  File \u001b[1;32m\"<ipython-input-1-e61abffe0289>\"\u001b[1;36m, line \u001b[1;32m6\u001b[0m\n\u001b[1;33m    if cv2.waitkey(1 & oxff=='q')\u001b[0m\n\u001b[1;37m                                 ^\u001b[0m\n\u001b[1;31mSyntaxError\u001b[0m\u001b[1;31m:\u001b[0m invalid syntax\n"
     ]
    }
   ],
   "source": [
    "import cv2\n",
    "v=cv2.VideoCapture(0)\n",
    "while True:\n",
    "    r,f=v.read;\n",
    "    cv2.imshow('frame',f)\n",
    "    if cv2.waitkey(1 & oxff=='q')\n",
    "        break\n",
    "    v.release()\n",
    "    cv2.destroyalwindows"
   ]
  },
  {
   "cell_type": "code",
   "execution_count": null,
   "metadata": {},
   "outputs": [],
   "source": []
  }
 ],
 "metadata": {
  "kernelspec": {
   "display_name": "Python 3",
   "language": "python",
   "name": "python3"
  },
  "language_info": {
   "codemirror_mode": {
    "name": "ipython",
    "version": 3
   },
   "file_extension": ".py",
   "mimetype": "text/x-python",
   "name": "python",
   "nbconvert_exporter": "python",
   "pygments_lexer": "ipython3",
   "version": "3.7.1"
  }
 },
 "nbformat": 4,
 "nbformat_minor": 2
}
