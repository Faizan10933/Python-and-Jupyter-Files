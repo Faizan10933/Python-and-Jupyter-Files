{
 "cells": [
  {
   "cell_type": "code",
   "execution_count": 7,
   "metadata": {},
   "outputs": [
    {
     "name": "stdout",
     "output_type": "stream",
     "text": [
      "Enter a no10\n"
     ]
    }
   ],
   "source": [
    "size=int(input(\"Enter a no\"))\n",
    "m=(2*size)-2\n",
    "f=open('pat.txt','w')\n",
    "for i in range(0,size):\n",
    "    for j in range(0,m):\n",
    "        f.write(' ')\n",
    "    m=m-1\n",
    "    for j in range(0,i+1):   \n",
    "        f.write('* ')\n",
    "    f.write('\\n')\n",
    "f.close()    \n"
   ]
  },
  {
   "cell_type": "code",
   "execution_count": 27,
   "metadata": {},
   "outputs": [
    {
     "name": "stdout",
     "output_type": "stream",
     "text": [
      "1\n",
      "4\n"
     ]
    }
   ],
   "source": [
    "l=[(1,2,3),(4,5,6)]\n",
    "c=0\n",
    "for i in l:\n",
    "    print(i[0])"
   ]
  },
  {
   "cell_type": "code",
   "execution_count": 42,
   "metadata": {},
   "outputs": [
    {
     "name": "stdout",
     "output_type": "stream",
     "text": [
      "1\n",
      "[(2, 4, 6), (8, 10, 12)]\n",
      "4\n",
      "[(4, 8, 12), (16, 20, 24)]\n"
     ]
    }
   ],
   "source": [
    "import numpy as np\n",
    "L=[(1,2,3),(4,5,6)]\n",
    "for i in L:\n",
    "    print(i[0])\n",
    "    a=np.array(L[0])\n",
    "    a=a*2\n",
    "    b=np.array(L[1])\n",
    "    b=b*2\n",
    "    L=[tuple(a),tuple(b)]\n",
    "    print(L)\n",
    "    \n",
    "    "
   ]
  },
  {
   "cell_type": "code",
   "execution_count": 57,
   "metadata": {},
   "outputs": [
    {
     "name": "stdout",
     "output_type": "stream",
     "text": [
      "{'Name': 'Faizan Ahmed', 'Roll': '1', 'Marks': '7'}\n"
     ]
    }
   ],
   "source": [
    "f=open('d.txt','r')\n",
    "s=f.readlines()\n",
    "d={}\n",
    "for i in s:\n",
    "    x=i.split(':')\n",
    "    d[x[0]]=x[1][:-1]\n",
    "print(d)\n"
   ]
  },
  {
   "cell_type": "code",
   "execution_count": null,
   "metadata": {},
   "outputs": [],
   "source": []
  }
 ],
 "metadata": {
  "kernelspec": {
   "display_name": "Python 3",
   "language": "python",
   "name": "python3"
  },
  "language_info": {
   "codemirror_mode": {
    "name": "ipython",
    "version": 3
   },
   "file_extension": ".py",
   "mimetype": "text/x-python",
   "name": "python",
   "nbconvert_exporter": "python",
   "pygments_lexer": "ipython3",
   "version": "3.7.1"
  }
 },
 "nbformat": 4,
 "nbformat_minor": 2
}
