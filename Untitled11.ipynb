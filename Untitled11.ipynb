{
 "cells": [
  {
   "cell_type": "code",
   "execution_count": 2,
   "metadata": {},
   "outputs": [],
   "source": [
    "from tkinter import *\n",
    "from tkinter import ttk\n",
    "class App:\n",
    "    def __init__(self):\n",
    "        self.root=Tk()\n",
    "        self.root.geometry('800x300')\n",
    "        self.root.title('EMI CALCULATOR')\n",
    "        self.root['bg']= 'white'\n",
    "        Label(self.root,text='EMI CALCULATOR',font=('verdana',20),bg='black',fg='yellow',width=28).grid(row=0,column=0,columnspan=3)\n",
    "        L=['select company','select Model','Price']\n",
    "        company=['Select company Name','samsung','Realme','Mi','Apple','Oppo','Vivo']\n",
    "        self.d={'samsung':['M-31','A-51','S10','S20']}\n",
    "        j=1\n",
    "        for i in L:\n",
    "            Label(self.root,text=i,font=('arial',12),bg='black',fg='white',width=18).grid(row=j,column=0,padx=10,pady=10,sticky='W')\n",
    "            Label(self.root,text=':',font=('arial',12),bg='black',fg='white',width=18).grid(row=j,column=1,padx=10,pady=10,sticky='W')\n",
    "            j+=1\n",
    "        \n",
    "        self.c1=ttk.Combobox(self.root,values=company)\n",
    "        self.c1.current(0)\n",
    "        self.c1.grid(row=1,column=2)\n",
    "        self.c1.bind(\"<<comboboxSelected>>\",self.getModel)\n",
    "        self.root.mainloop()\n",
    "        \n",
    "    def getModel(self,evt):\n",
    "        #self.com\n",
    "            obj=App()\n"
   ]
  },
  {
   "cell_type": "code",
   "execution_count": null,
   "metadata": {},
   "outputs": [],
   "source": []
  },
  {
   "cell_type": "code",
   "execution_count": null,
   "metadata": {},
   "outputs": [],
   "source": []
  }
 ],
 "metadata": {
  "kernelspec": {
   "display_name": "Python 3",
   "language": "python",
   "name": "python3"
  },
  "language_info": {
   "codemirror_mode": {
    "name": "ipython",
    "version": 3
   },
   "file_extension": ".py",
   "mimetype": "text/x-python",
   "name": "python",
   "nbconvert_exporter": "python",
   "pygments_lexer": "ipython3",
   "version": "3.7.1"
  }
 },
 "nbformat": 4,
 "nbformat_minor": 2
}
