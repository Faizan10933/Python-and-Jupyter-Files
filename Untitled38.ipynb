{
 "cells": [
  {
   "cell_type": "code",
   "execution_count": 1,
   "metadata": {},
   "outputs": [],
   "source": [
    "import cv2\n",
    "import pytesseract"
   ]
  },
  {
   "cell_type": "code",
   "execution_count": null,
   "metadata": {},
   "outputs": [],
   "source": [
    "img=cv2.imread(\"C:\\\\Users\\\\FAIZAN\\\\Desktop\\\\ProImage\\\\Plate.jpg\")\n",
    "img_gray=cv2.cvtColor(img,cv2.COLOR_BGR2GRAY)\n",
    "img_Canny=cv2.Canny(img_gray,100,200)\n",
    "#cv2.imshow('Title',img_Canny)\n",
    "_,contours,_=cv2.findContours(img_Canny.copy(),cv2.RETR_LIST,cv2.CHAIN_APPROX_NONE)\n",
    "contour=sorted(contours, key=cv2.contourArea, reverse=True)[:20]\n",
    "x=y=w=h=None\n",
    "for i in contour:\n",
    "    p=cv2.arcLength(i,True)\n",
    "    approx=cv2.approxPolyDP(i,0.01*p,True)\n",
    "    if len(approx)==4:\n",
    "        x,y,w,h=cv2.boundingRect(i)\n",
    "        plate=img_gray[y:y+h,x:x+w]\n",
    "        break\n",
    "cv2.imshow('Title',plate)\n",
    "        \n",
    "cv2.waitKey(0)\n",
    "cv2.destroyAllWindows()"
   ]
  },
  {
   "cell_type": "code",
   "execution_count": null,
   "metadata": {},
   "outputs": [],
   "source": []
  }
 ],
 "metadata": {
  "kernelspec": {
   "display_name": "Python 3",
   "language": "python",
   "name": "python3"
  },
  "language_info": {
   "codemirror_mode": {
    "name": "ipython",
    "version": 3
   },
   "file_extension": ".py",
   "mimetype": "text/x-python",
   "name": "python",
   "nbconvert_exporter": "python",
   "pygments_lexer": "ipython3",
   "version": "3.7.1"
  }
 },
 "nbformat": 4,
 "nbformat_minor": 2
}
