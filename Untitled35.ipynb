{
 "cells": [
  {
   "cell_type": "code",
   "execution_count": 2,
   "metadata": {},
   "outputs": [],
   "source": [
    "import cv2\n",
    "import numpy as np\n",
    "from matplotlib import pyplot as plt\n",
    "def fun(x):\n",
    "    pass\n",
    "    \n",
    "\n"
   ]
  },
  {
   "cell_type": "code",
   "execution_count": 3,
   "metadata": {},
   "outputs": [],
   "source": [
    "l=[]\n",
    "def point(event,x,y,flag,param):\n",
    "    global l\n",
    "    if event==cv2.EVENT_LBUTTONDOWN:\n",
    "        l.append((x,y))\n",
    "while True:    \n",
    "    img=cv2.imread(\"C:\\\\Users\\\\FAIZAN\\\\Desktop\\\\ProImage\\\\Zayn.png\")\n",
    "    img=cv2.resize(img,(500,500))\n",
    "    \n",
    "    if len(l)==4:\n",
    "        w,h=250,250\n",
    "        p1=np.float32([[l[0]],[l[1]],[l[2]],[l[3]]])\n",
    "        p2=np.float32([[0,0],[w,0],[0,h],[w,h]])\n",
    "        Matrix=cv2.getPerspectiveTransform(p1,p2)\n",
    "        img1=cv2.warpPerspective(img,Matrix,(w,h))\n",
    "        cv2.imshow('newimage',img1)\n",
    "        \n",
    "    cv2.setMouseCallback('image',point)\n",
    "    for i in l:\n",
    "        cv2.circle(img,i,5,(255,0,0),cv2.FILLED)\n",
    "    k=cv2.waitKey(1) & 0XFF\n",
    "    if k==27:\n",
    "        break\n",
    "    cv2.imshow('image',img)\n",
    "cv2.destroyAllWindows()"
   ]
  },
  {
   "cell_type": "code",
   "execution_count": null,
   "metadata": {},
   "outputs": [],
   "source": []
  }
 ],
 "metadata": {
  "kernelspec": {
   "display_name": "Python 3",
   "language": "python",
   "name": "python3"
  },
  "language_info": {
   "codemirror_mode": {
    "name": "ipython",
    "version": 3
   },
   "file_extension": ".py",
   "mimetype": "text/x-python",
   "name": "python",
   "nbconvert_exporter": "python",
   "pygments_lexer": "ipython3",
   "version": "3.7.1"
  }
 },
 "nbformat": 4,
 "nbformat_minor": 2
}
