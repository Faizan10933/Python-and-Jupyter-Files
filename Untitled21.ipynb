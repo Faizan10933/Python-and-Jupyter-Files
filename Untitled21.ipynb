{
 "cells": [
  {
   "cell_type": "code",
   "execution_count": null,
   "metadata": {},
   "outputs": [],
   "source": [
    "class emp:\n",
    "    empcount=0\n",
    "    def __init__(self,name,city):\n",
    "        self.name=name\n",
    "        self.city=city\n",
    "        emp.empcount+=1\n",
    "    def count_emp(self):\n",
    "        print(\"No of employee=\",emp.empcount)\n",
    "    def show(self):\n",
    "        print(\"name=\",self.name)\n",
    "        print(\"city=\",self.city)\n",
    "    \n",
    "e1=emp(\"Faizan\",\"Raniganj\")\n",
    "e1.count_emp()\n",
    "e1.show()\n",
    "print(emp.__doc__)\n",
    "print(emp.__name__)\n",
    "print(emp.__doc__)\n",
    "print(emp.__module__)"
   ]
  },
  {
   "cell_type": "code",
   "execution_count": 1,
   "metadata": {},
   "outputs": [
    {
     "name": "stdout",
     "output_type": "stream",
     "text": [
      "Enter Roll12\n",
      "Enter NameFaizan\n",
      "Enter 5 sub marks\n",
      "100\n",
      "100\n",
      "100\n",
      "100\n",
      "100\n",
      "Roll :  12  Name  : Faizan  Stream : CS\n"
     ]
    }
   ],
   "source": [
    "class student:\n",
    "    def __init__(self):\n",
    "            self.name=None\n",
    "            self.stream=None\n",
    "            self.roll=0\n",
    "            self.marks=[0,0,0,0,0]\n",
    "    def student_assign(self):\n",
    "        self.roll=int(input('Enter Roll'))\n",
    "        self.name=input('Enter Name')\n",
    "        print('Enter 5 sub marks')\n",
    "        for i in range(5):\n",
    "            x=int(input())\n",
    "            self.marks.append(x)\n",
    "    def assignStream(self):\n",
    "        sum=0\n",
    "        for i in self.marks:\n",
    "            sum+=i\n",
    "        avg=sum/5\n",
    "        if avg>=96:\n",
    "            self.stream='CS'\n",
    "        elif avg>=91:\n",
    "            self.stream='EC'\n",
    "        elif avg>=86:\n",
    "            self.stream='MECH'\n",
    "        elif avg>=71:\n",
    "            self.stream='Civil'\n",
    "    def display_student(self):\n",
    "        self.assignStream()\n",
    "        print('Roll : ',self.roll,' Name  :',self.name,' Stream :',self.stream)\n",
    "\n",
    "obj=student()\n",
    "obj.student_assign()\n",
    "obj.assignStream()\n",
    "obj.display_student()"
   ]
  },
  {
   "cell_type": "code",
   "execution_count": null,
   "metadata": {},
   "outputs": [],
   "source": []
  }
 ],
 "metadata": {
  "kernelspec": {
   "display_name": "Python 3",
   "language": "python",
   "name": "python3"
  },
  "language_info": {
   "codemirror_mode": {
    "name": "ipython",
    "version": 3
   },
   "file_extension": ".py",
   "mimetype": "text/x-python",
   "name": "python",
   "nbconvert_exporter": "python",
   "pygments_lexer": "ipython3",
   "version": "3.7.1"
  }
 },
 "nbformat": 4,
 "nbformat_minor": 2
}
