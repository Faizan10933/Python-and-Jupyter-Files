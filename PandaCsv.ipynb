{
 "cells": [
  {
   "cell_type": "code",
   "execution_count": 1,
   "metadata": {},
   "outputs": [
    {
     "data": {
      "text/html": [
       "<div>\n",
       "<style scoped>\n",
       "    .dataframe tbody tr th:only-of-type {\n",
       "        vertical-align: middle;\n",
       "    }\n",
       "\n",
       "    .dataframe tbody tr th {\n",
       "        vertical-align: top;\n",
       "    }\n",
       "\n",
       "    .dataframe thead th {\n",
       "        text-align: right;\n",
       "    }\n",
       "</style>\n",
       "<table border=\"1\" class=\"dataframe\">\n",
       "  <thead>\n",
       "    <tr style=\"text-align: right;\">\n",
       "      <th></th>\n",
       "      <th>Roll</th>\n",
       "      <th>Eng</th>\n",
       "      <th>Math</th>\n",
       "      <th>Sci</th>\n",
       "      <th>Total</th>\n",
       "      <th>Avg</th>\n",
       "      <th>Grade</th>\n",
       "    </tr>\n",
       "  </thead>\n",
       "  <tbody>\n",
       "    <tr>\n",
       "      <th>0</th>\n",
       "      <td>1041037</td>\n",
       "      <td>100</td>\n",
       "      <td>100</td>\n",
       "      <td>43</td>\n",
       "      <td>243</td>\n",
       "      <td>81.000000</td>\n",
       "      <td>A</td>\n",
       "    </tr>\n",
       "    <tr>\n",
       "      <th>1</th>\n",
       "      <td>343817</td>\n",
       "      <td>72</td>\n",
       "      <td>10</td>\n",
       "      <td>76</td>\n",
       "      <td>158</td>\n",
       "      <td>52.666667</td>\n",
       "      <td>B</td>\n",
       "    </tr>\n",
       "    <tr>\n",
       "      <th>2</th>\n",
       "      <td>238423</td>\n",
       "      <td>74</td>\n",
       "      <td>39</td>\n",
       "      <td>88</td>\n",
       "      <td>201</td>\n",
       "      <td>67.000000</td>\n",
       "      <td>B</td>\n",
       "    </tr>\n",
       "    <tr>\n",
       "      <th>3</th>\n",
       "      <td>264493</td>\n",
       "      <td>25</td>\n",
       "      <td>66</td>\n",
       "      <td>94</td>\n",
       "      <td>185</td>\n",
       "      <td>61.666667</td>\n",
       "      <td>B</td>\n",
       "    </tr>\n",
       "    <tr>\n",
       "      <th>4</th>\n",
       "      <td>728936</td>\n",
       "      <td>37</td>\n",
       "      <td>65</td>\n",
       "      <td>45</td>\n",
       "      <td>147</td>\n",
       "      <td>49.000000</td>\n",
       "      <td>C</td>\n",
       "    </tr>\n",
       "    <tr>\n",
       "      <th>5</th>\n",
       "      <td>787831</td>\n",
       "      <td>74</td>\n",
       "      <td>76</td>\n",
       "      <td>100</td>\n",
       "      <td>250</td>\n",
       "      <td>83.333333</td>\n",
       "      <td>A</td>\n",
       "    </tr>\n",
       "    <tr>\n",
       "      <th>6</th>\n",
       "      <td>645387</td>\n",
       "      <td>45</td>\n",
       "      <td>84</td>\n",
       "      <td>52</td>\n",
       "      <td>181</td>\n",
       "      <td>60.333333</td>\n",
       "      <td>B</td>\n",
       "    </tr>\n",
       "    <tr>\n",
       "      <th>7</th>\n",
       "      <td>380174</td>\n",
       "      <td>4</td>\n",
       "      <td>37</td>\n",
       "      <td>14</td>\n",
       "      <td>55</td>\n",
       "      <td>18.333333</td>\n",
       "      <td>F</td>\n",
       "    </tr>\n",
       "    <tr>\n",
       "      <th>8</th>\n",
       "      <td>828615</td>\n",
       "      <td>52</td>\n",
       "      <td>67</td>\n",
       "      <td>60</td>\n",
       "      <td>179</td>\n",
       "      <td>59.666667</td>\n",
       "      <td>B</td>\n",
       "    </tr>\n",
       "    <tr>\n",
       "      <th>9</th>\n",
       "      <td>459353</td>\n",
       "      <td>96</td>\n",
       "      <td>47</td>\n",
       "      <td>46</td>\n",
       "      <td>189</td>\n",
       "      <td>63.000000</td>\n",
       "      <td>B</td>\n",
       "    </tr>\n",
       "  </tbody>\n",
       "</table>\n",
       "</div>"
      ],
      "text/plain": [
       "      Roll  Eng  Math  Sci  Total        Avg Grade\n",
       "0  1041037  100   100   43    243  81.000000     A\n",
       "1   343817   72    10   76    158  52.666667     B\n",
       "2   238423   74    39   88    201  67.000000     B\n",
       "3   264493   25    66   94    185  61.666667     B\n",
       "4   728936   37    65   45    147  49.000000     C\n",
       "5   787831   74    76  100    250  83.333333     A\n",
       "6   645387   45    84   52    181  60.333333     B\n",
       "7   380174    4    37   14     55  18.333333     F\n",
       "8   828615   52    67   60    179  59.666667     B\n",
       "9   459353   96    47   46    189  63.000000     B"
      ]
     },
     "execution_count": 1,
     "metadata": {},
     "output_type": "execute_result"
    }
   ],
   "source": [
    "#>=90 a+\n",
    "#<=90 && >=70 A\n",
    "#50 t0 70 B\n",
    "#40 TO 50 C\n",
    "#>40= f\n",
    "\n",
    "import csv\n",
    "import numpy as np\n",
    "import pandas as pd\n",
    "df=pd.read_csv(\"Data.csv\")\n",
    "df['Total']=df['Eng']+df['Math']+df['Sci']\n",
    "df['Avg']=df['Total']/3\n",
    "c=[(df['Avg']>=90),(df['Avg']>=75)&(df['Avg']<90),(df['Avg']>=50)&(df['Avg']<=75),(df['Avg']>=40)&(df['Avg']<50),(df['Avg']<=40)]\n",
    "v=['A+','A','B','C','F']\n",
    "df['Grade']=np.select(c,v)\n",
    "df.head(10)\n",
    "\n"
   ]
  },
  {
   "cell_type": "code",
   "execution_count": 3,
   "metadata": {},
   "outputs": [
    {
     "data": {
      "text/html": [
       "<div>\n",
       "<style scoped>\n",
       "    .dataframe tbody tr th:only-of-type {\n",
       "        vertical-align: middle;\n",
       "    }\n",
       "\n",
       "    .dataframe tbody tr th {\n",
       "        vertical-align: top;\n",
       "    }\n",
       "\n",
       "    .dataframe thead th {\n",
       "        text-align: right;\n",
       "    }\n",
       "</style>\n",
       "<table border=\"1\" class=\"dataframe\">\n",
       "  <thead>\n",
       "    <tr style=\"text-align: right;\">\n",
       "      <th></th>\n",
       "      <th>Roll</th>\n",
       "      <th>Eng</th>\n",
       "      <th>Math</th>\n",
       "      <th>Sci</th>\n",
       "      <th>Total</th>\n",
       "      <th>Avg</th>\n",
       "    </tr>\n",
       "  </thead>\n",
       "  <tbody>\n",
       "    <tr>\n",
       "      <th>count</th>\n",
       "      <td>1.048575e+06</td>\n",
       "      <td>1.048575e+06</td>\n",
       "      <td>1.048575e+06</td>\n",
       "      <td>1.048575e+06</td>\n",
       "      <td>1.048575e+06</td>\n",
       "      <td>1.048575e+06</td>\n",
       "    </tr>\n",
       "    <tr>\n",
       "      <th>mean</th>\n",
       "      <td>5.239976e+05</td>\n",
       "      <td>4.997151e+01</td>\n",
       "      <td>4.997103e+01</td>\n",
       "      <td>4.995457e+01</td>\n",
       "      <td>1.498971e+02</td>\n",
       "      <td>4.996570e+01</td>\n",
       "    </tr>\n",
       "    <tr>\n",
       "      <th>std</th>\n",
       "      <td>3.026374e+05</td>\n",
       "      <td>2.914006e+01</td>\n",
       "      <td>2.916475e+01</td>\n",
       "      <td>2.914968e+01</td>\n",
       "      <td>5.052150e+01</td>\n",
       "      <td>1.684050e+01</td>\n",
       "    </tr>\n",
       "    <tr>\n",
       "      <th>min</th>\n",
       "      <td>4.000000e+00</td>\n",
       "      <td>0.000000e+00</td>\n",
       "      <td>0.000000e+00</td>\n",
       "      <td>0.000000e+00</td>\n",
       "      <td>1.000000e+00</td>\n",
       "      <td>3.333333e-01</td>\n",
       "    </tr>\n",
       "    <tr>\n",
       "      <th>25%</th>\n",
       "      <td>2.614065e+05</td>\n",
       "      <td>2.500000e+01</td>\n",
       "      <td>2.500000e+01</td>\n",
       "      <td>2.500000e+01</td>\n",
       "      <td>1.140000e+02</td>\n",
       "      <td>3.800000e+01</td>\n",
       "    </tr>\n",
       "    <tr>\n",
       "      <th>50%</th>\n",
       "      <td>5.242670e+05</td>\n",
       "      <td>5.000000e+01</td>\n",
       "      <td>5.000000e+01</td>\n",
       "      <td>5.000000e+01</td>\n",
       "      <td>1.500000e+02</td>\n",
       "      <td>5.000000e+01</td>\n",
       "    </tr>\n",
       "    <tr>\n",
       "      <th>75%</th>\n",
       "      <td>7.860645e+05</td>\n",
       "      <td>7.500000e+01</td>\n",
       "      <td>7.500000e+01</td>\n",
       "      <td>7.500000e+01</td>\n",
       "      <td>1.860000e+02</td>\n",
       "      <td>6.200000e+01</td>\n",
       "    </tr>\n",
       "    <tr>\n",
       "      <th>max</th>\n",
       "      <td>1.048576e+06</td>\n",
       "      <td>1.000000e+02</td>\n",
       "      <td>1.000000e+02</td>\n",
       "      <td>1.000000e+02</td>\n",
       "      <td>3.000000e+02</td>\n",
       "      <td>1.000000e+02</td>\n",
       "    </tr>\n",
       "  </tbody>\n",
       "</table>\n",
       "</div>"
      ],
      "text/plain": [
       "               Roll           Eng          Math           Sci         Total  \\\n",
       "count  1.048575e+06  1.048575e+06  1.048575e+06  1.048575e+06  1.048575e+06   \n",
       "mean   5.239976e+05  4.997151e+01  4.997103e+01  4.995457e+01  1.498971e+02   \n",
       "std    3.026374e+05  2.914006e+01  2.916475e+01  2.914968e+01  5.052150e+01   \n",
       "min    4.000000e+00  0.000000e+00  0.000000e+00  0.000000e+00  1.000000e+00   \n",
       "25%    2.614065e+05  2.500000e+01  2.500000e+01  2.500000e+01  1.140000e+02   \n",
       "50%    5.242670e+05  5.000000e+01  5.000000e+01  5.000000e+01  1.500000e+02   \n",
       "75%    7.860645e+05  7.500000e+01  7.500000e+01  7.500000e+01  1.860000e+02   \n",
       "max    1.048576e+06  1.000000e+02  1.000000e+02  1.000000e+02  3.000000e+02   \n",
       "\n",
       "                Avg  \n",
       "count  1.048575e+06  \n",
       "mean   4.996570e+01  \n",
       "std    1.684050e+01  \n",
       "min    3.333333e-01  \n",
       "25%    3.800000e+01  \n",
       "50%    5.000000e+01  \n",
       "75%    6.200000e+01  \n",
       "max    1.000000e+02  "
      ]
     },
     "execution_count": 3,
     "metadata": {},
     "output_type": "execute_result"
    }
   ],
   "source": [
    "df.describe()"
   ]
  },
  {
   "cell_type": "code",
   "execution_count": 7,
   "metadata": {},
   "outputs": [
    {
     "data": {
      "text/plain": [
       "100"
      ]
     },
     "execution_count": 7,
     "metadata": {},
     "output_type": "execute_result"
    }
   ],
   "source": [
    "max(df['Eng'])"
   ]
  },
  {
   "cell_type": "code",
   "execution_count": 8,
   "metadata": {},
   "outputs": [
    {
     "data": {
      "text/plain": [
       "100"
      ]
     },
     "execution_count": 8,
     "metadata": {},
     "output_type": "execute_result"
    }
   ],
   "source": [
    "max(df['Math'])"
   ]
  },
  {
   "cell_type": "code",
   "execution_count": 9,
   "metadata": {},
   "outputs": [
    {
     "data": {
      "text/plain": [
       "100"
      ]
     },
     "execution_count": 9,
     "metadata": {},
     "output_type": "execute_result"
    }
   ],
   "source": [
    "max(df['Sci'])"
   ]
  },
  {
   "cell_type": "code",
   "execution_count": 10,
   "metadata": {},
   "outputs": [
    {
     "name": "stdout",
     "output_type": "stream",
     "text": [
      "            Roll  Eng\n",
      "0        1041037  100\n",
      "211       448338  100\n",
      "258       871462  100\n",
      "497       720631  100\n",
      "507       623049  100\n",
      "565       549274  100\n",
      "591      1040270  100\n",
      "809        79084  100\n",
      "945       215252  100\n",
      "1309      586912  100\n",
      "1358      629158  100\n",
      "1494       76853  100\n",
      "1576      959025  100\n",
      "1612      512543  100\n",
      "1639      509924  100\n",
      "1711      707332  100\n",
      "1879     1038698  100\n",
      "1938      642843  100\n",
      "1977      830020  100\n",
      "2009      950054  100\n",
      "2305      394393  100\n",
      "2310      364892  100\n",
      "2352      823980  100\n",
      "2676      769371  100\n",
      "2855      397328  100\n",
      "3039      448335  100\n",
      "3078      478924  100\n",
      "3166      719411  100\n",
      "3249       92772  100\n",
      "3323      233721  100\n",
      "...          ...  ...\n",
      "1045003   360738  100\n",
      "1045049  1042540  100\n",
      "1045237   724262  100\n",
      "1045271    24199  100\n",
      "1045291   211236  100\n",
      "1045594   389158  100\n",
      "1045722    57230  100\n",
      "1045828   834764  100\n",
      "1045870    37537  100\n",
      "1046009   281064  100\n",
      "1046178   592184  100\n",
      "1046373   207917  100\n",
      "1046508   105409  100\n",
      "1046745   837942  100\n",
      "1046847  1034581  100\n",
      "1046941   543720  100\n",
      "1046961   495156  100\n",
      "1047045   760087  100\n",
      "1047264   317619  100\n",
      "1047311   408186  100\n",
      "1047370   445961  100\n",
      "1047487   722621  100\n",
      "1047555   553709  100\n",
      "1047718    90222  100\n",
      "1047773   898588  100\n",
      "1048095   658835  100\n",
      "1048136   228412  100\n",
      "1048425   825967  100\n",
      "1048497   746643  100\n",
      "1048573   360143  100\n",
      "\n",
      "[10411 rows x 2 columns]\n"
     ]
    }
   ],
   "source": [
    "df1=df[['Roll','Eng']][df.Eng==df['Eng'].max()]\n",
    "print(df1)"
   ]
  },
  {
   "cell_type": "code",
   "execution_count": 18,
   "metadata": {},
   "outputs": [],
   "source": [
    "df1=df['Grade'].value_counts()"
   ]
  },
  {
   "cell_type": "code",
   "execution_count": 19,
   "metadata": {},
   "outputs": [
    {
     "data": {
      "text/plain": [
       "B     449907\n",
       "F     296937\n",
       "C     224497\n",
       "A      71689\n",
       "A+      5545\n",
       "Name: Grade, dtype: int64"
      ]
     },
     "execution_count": 19,
     "metadata": {},
     "output_type": "execute_result"
    }
   ],
   "source": [
    "df1"
   ]
  },
  {
   "cell_type": "code",
   "execution_count": 21,
   "metadata": {},
   "outputs": [
    {
     "data": {
      "text/plain": [
       "{'B': 449907, 'F': 296937, 'C': 224497, 'A': 71689, 'A+': 5545}"
      ]
     },
     "execution_count": 21,
     "metadata": {},
     "output_type": "execute_result"
    }
   ],
   "source": [
    "df2=dict(df1)\n",
    "df2"
   ]
  },
  {
   "cell_type": "code",
   "execution_count": 22,
   "metadata": {},
   "outputs": [
    {
     "data": {
      "image/png": "[encoded data removed]",
      "text/plain": [
       "<Figure size 432x288 with 1 Axes>"
      ]
     },
     "metadata": {},
     "output_type": "display_data"
    }
   ],
   "source": [
    "import matplotlib.pyplot as plt\n",
    "plt.pie(df1,labels=df2.keys(),autopct='%.1f%%',shadow=True)\n",
    "plt.show()"
   ]
  },
  {
   "cell_type": "code",
   "execution_count": 24,
   "metadata": {},
   "outputs": [
    {
     "data": {
      "text/html": [
       "<div>\n",
       "<style scoped>\n",
       "    .dataframe tbody tr th:only-of-type {\n",
       "        vertical-align: middle;\n",
       "    }\n",
       "\n",
       "    .dataframe tbody tr th {\n",
       "        vertical-align: top;\n",
       "    }\n",
       "\n",
       "    .dataframe thead th {\n",
       "        text-align: right;\n",
       "    }\n",
       "</style>\n",
       "<table border=\"1\" class=\"dataframe\">\n",
       "  <thead>\n",
       "    <tr style=\"text-align: right;\">\n",
       "      <th></th>\n",
       "      <th>Roll</th>\n",
       "      <th>Eng</th>\n",
       "      <th>Math</th>\n",
       "      <th>Sci</th>\n",
       "      <th>Total</th>\n",
       "      <th>Avg</th>\n",
       "      <th>Grade</th>\n",
       "    </tr>\n",
       "  </thead>\n",
       "  <tbody>\n",
       "    <tr>\n",
       "      <th>211</th>\n",
       "      <td>448338</td>\n",
       "      <td>100</td>\n",
       "      <td>94</td>\n",
       "      <td>91</td>\n",
       "      <td>285</td>\n",
       "      <td>95.000000</td>\n",
       "      <td>A+</td>\n",
       "    </tr>\n",
       "    <tr>\n",
       "      <th>469</th>\n",
       "      <td>828116</td>\n",
       "      <td>88</td>\n",
       "      <td>100</td>\n",
       "      <td>86</td>\n",
       "      <td>274</td>\n",
       "      <td>91.333333</td>\n",
       "      <td>A+</td>\n",
       "    </tr>\n",
       "    <tr>\n",
       "      <th>507</th>\n",
       "      <td>623049</td>\n",
       "      <td>100</td>\n",
       "      <td>83</td>\n",
       "      <td>88</td>\n",
       "      <td>271</td>\n",
       "      <td>90.333333</td>\n",
       "      <td>A+</td>\n",
       "    </tr>\n",
       "    <tr>\n",
       "      <th>546</th>\n",
       "      <td>762512</td>\n",
       "      <td>88</td>\n",
       "      <td>91</td>\n",
       "      <td>100</td>\n",
       "      <td>279</td>\n",
       "      <td>93.000000</td>\n",
       "      <td>A+</td>\n",
       "    </tr>\n",
       "    <tr>\n",
       "      <th>572</th>\n",
       "      <td>274666</td>\n",
       "      <td>98</td>\n",
       "      <td>98</td>\n",
       "      <td>74</td>\n",
       "      <td>270</td>\n",
       "      <td>90.000000</td>\n",
       "      <td>A+</td>\n",
       "    </tr>\n",
       "  </tbody>\n",
       "</table>\n",
       "</div>"
      ],
      "text/plain": [
       "       Roll  Eng  Math  Sci  Total        Avg Grade\n",
       "211  448338  100    94   91    285  95.000000    A+\n",
       "469  828116   88   100   86    274  91.333333    A+\n",
       "507  623049  100    83   88    271  90.333333    A+\n",
       "546  762512   88    91  100    279  93.000000    A+\n",
       "572  274666   98    98   74    270  90.000000    A+"
      ]
     },
     "execution_count": 24,
     "metadata": {},
     "output_type": "execute_result"
    }
   ],
   "source": [
    "df4=df[['Roll','Eng','Math','Sci','Total','Avg','Grade']][df.Grade==\"A+\"]\n",
    "df4.to_csv(\"A+.csv\")\n",
    "df4.head()"
   ]
  },
  {
   "cell_type": "code",
   "execution_count": null,
   "metadata": {},
   "outputs": [],
   "source": []
  }
 ],
 "metadata": {
  "kernelspec": {
   "display_name": "Python 3",
   "language": "python",
   "name": "python3"
  },
  "language_info": {
   "codemirror_mode": {
    "name": "ipython",
    "version": 3
   },
   "file_extension": ".py",
   "mimetype": "text/x-python",
   "name": "python",
   "nbconvert_exporter": "python",
   "pygments_lexer": "ipython3",
   "version": "3.7.1"
  }
 },
 "nbformat": 4,
 "nbformat_minor": 2
}
