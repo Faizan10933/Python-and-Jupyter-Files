{
 "cells": [
  {
   "cell_type": "code",
   "execution_count": 1,
   "metadata": {},
   "outputs": [
    {
     "name": "stdout",
     "output_type": "stream",
     "text": [
      "2\n"
     ]
    }
   ],
   "source": [
    "#output\n",
    "x=['abc','xyz']\n",
    "y=len(list(map(list,x)))\n",
    "print(y)"
   ]
  },
  {
   "cell_type": "code",
   "execution_count": 6,
   "metadata": {},
   "outputs": [
    {
     "name": "stdout",
     "output_type": "stream",
     "text": [
      "2\n"
     ]
    }
   ],
   "source": [
    "def fun(*arg):\n",
    "    print(arg[1])\n",
    "    \n",
    "fun(1,2,3,'hello')\n",
    "    "
   ]
  },
  {
   "cell_type": "code",
   "execution_count": 13,
   "metadata": {},
   "outputs": [
    {
     "name": "stdout",
     "output_type": "stream",
     "text": [
      "{'p': 1000, 'r': 0.1, 't': 5}\n"
     ]
    }
   ],
   "source": [
    "def fun(*arg,**kwarg):\n",
    "    print(kwarg)\n",
    "        \n",
    "fun(p=1000,r=0.1,t=5)"
   ]
  },
  {
   "cell_type": "code",
   "execution_count": 19,
   "metadata": {},
   "outputs": [
    {
     "name": "stdout",
     "output_type": "stream",
     "text": [
      "1\n",
      "2\n",
      "3\n",
      "4\n"
     ]
    }
   ],
   "source": [
    "for i in range(1,11):\n",
    "    if i%5==0:\n",
    "        break;\n",
    "    print(i)\n",
    "else:\n",
    "    print('i am else block')\n"
   ]
  },
  {
   "cell_type": "code",
   "execution_count": 26,
   "metadata": {},
   "outputs": [],
   "source": [
    "#write an empty function\n",
    "\n",
    "def fun():\n",
    "    pass\n",
    "fun()"
   ]
  },
  {
   "cell_type": "code",
   "execution_count": 28,
   "metadata": {},
   "outputs": [],
   "source": [
    "f=open(\")"
   ]
  },
  {
   "cell_type": "code",
   "execution_count": 33,
   "metadata": {},
   "outputs": [],
   "source": [
    "import os\n",
    "os.remove(\"notes.txt\")"
   ]
  },
  {
   "cell_type": "code",
   "execution_count": 35,
   "metadata": {},
   "outputs": [
    {
     "name": "stdout",
     "output_type": "stream",
     "text": [
      "['.anaconda', '.android', '.appletviewer', '.conda', '.condarc', '.eclipse', '.idlerc', '.ipynb_checkpoints', '.ipython', '.jupyter', '.matplotlib', '.oracle_jre_usage', '.p2', '.spyder-py3', '.THypervBox', '.tooling', '3D Objects', 'Anaconda3', 'android-sdks', 'ansel', 'AppData', 'Application Data', 'ByIRcUHS.exe', 'Contacts', 'Cookies', 'COVID 19 UPDATE.ipynb', 'covid.json', 'debug.log', 'Desktop', 'Documents', 'Downloads', 'eclipse', 'eclipse-workspace', 'Favorites', 'file.txt', 'inittk.ini', 'inst.ini', 'IntelGraphicsProfiles', 'Links', 'Local Settings', 'MicrosoftEdgeBackups', 'Music', 'My Documents', 'NetHood', 'notepad.ico', 'Nox_share', 'NTUSER.DAT', 'ntuser.dat.LOG1', 'ntuser.dat.LOG2', 'NTUSER.DAT{d7c7a17d-f8d6-11ea-a122-b340e10f3195}.TM.blf', 'NTUSER.DAT{d7c7a17d-f8d6-11ea-a122-b340e10f3195}.TMContainer00000000000000000001.regtrans-ms', 'NTUSER.DAT{d7c7a17d-f8d6-11ea-a122-b340e10f3195}.TMContainer00000000000000000002.regtrans-ms', 'ntuser.ini', 'numpy.ipynb', 'nuuid.ini', 'OneDrive', 'para.txt', 'Pictures', 'price.txt', 'PrintHood', 'PycharmProjects', 'Recent', 'Roaming', 'rstr1.ini', 'rstr2.ini', 'rstr3.ini', 'rstr4.ini', 'scale.ipynb', 'ScStore', 'SendTo', 'setup03.ini', 'setup04.ini', 'setup07.ini', 'setup08.ini', 'setup12.ini', 'setup14.ini', 'setup22.ini', 'setup24.ini', 'Start Menu', 'Templates', 'Untitled.ipynb', 'Untitled1.ipynb', 'Untitled10.ipynb', 'Untitled11.ipynb', 'Untitled12.ipynb', 'Untitled13.ipynb', 'Untitled14.ipynb', 'Untitled15.ipynb', 'Untitled16.ipynb', 'Untitled17.ipynb', 'Untitled18.ipynb', 'Untitled19.ipynb', 'Untitled2.ipynb', 'Untitled20.ipynb', 'Untitled3.ipynb', 'Untitled4.ipynb', 'Untitled5.ipynb', 'Untitled6.ipynb', 'Untitled7.ipynb', 'Untitled8.ipynb', 'Untitled9.ipynb', 'Videos', 'vmlogs', 'xKoolUiAiqIm.exe']\n"
     ]
    }
   ],
   "source": [
    "import os\n",
    "arr=os.listdir(\".\")\n",
    "print(arr)"
   ]
  },
  {
   "cell_type": "code",
   "execution_count": null,
   "metadata": {},
   "outputs": [],
   "source": []
  }
 ],
 "metadata": {
  "kernelspec": {
   "display_name": "Python 3",
   "language": "python",
   "name": "python3"
  },
  "language_info": {
   "codemirror_mode": {
    "name": "ipython",
    "version": 3
   },
   "file_extension": ".py",
   "mimetype": "text/x-python",
   "name": "python",
   "nbconvert_exporter": "python",
   "pygments_lexer": "ipython3",
   "version": "3.7.1"
  }
 },
 "nbformat": 4,
 "nbformat_minor": 2
}
