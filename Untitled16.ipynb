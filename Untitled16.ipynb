{
 "cells": [
  {
   "cell_type": "code",
   "execution_count": null,
   "metadata": {},
   "outputs": [],
   "source": [
    "n=int(input(\"enter a no\"))\n",
    "s=''\n",
    "for i in range(1,n+1):\n",
    "    s+=str(i)\n",
    "print(s)\n"
   ]
  },
  {
   "cell_type": "code",
   "execution_count": null,
   "metadata": {},
   "outputs": [],
   "source": [
    "#input a nos and swap 1st with last digit\n",
    "n=int(input(\"enter a no\"))\n",
    "s=str(n)\n",
    "s=s[-1]+s[1:-1]+s[0]\n",
    "print(s)\n"
   ]
  },
  {
   "cell_type": "code",
   "execution_count": 7,
   "metadata": {},
   "outputs": [
    {
     "name": "stdout",
     "output_type": "stream",
     "text": [
      "Programming Languages\n",
      "Category: Information Science\n",
      "Topic: Computer Programming, Computer Science\n",
      "Page: 1\n",
      "Words: 576\n",
      "Published: 03 December 2018\n",
      "Downloads: 105\n",
      "Download Print\n",
      "Pssstâ€¦ we can write an original essay just for you.\n",
      "\n",
      "Any subject. Any type of essay.\n",
      "\n",
      "Weâ€™ll even meet a 3-hour deadline.\n",
      "\n",
      "GET YOUR PRICE\n",
      "122 writers online\n",
      "\n",
      "blank-ico\n",
      "Programming languages can either be compiled or interpreted; compiled languages are programs that are fully translated from source code to object code, for the target system to read in its specific language given to the processor and OS. On the other hand, interpreted languages are interpreted by the system line by line by another program â€“ the interpreter which is often specialised for a certain computer. To interpret the language means to translate it to the systemâ€™s equivalent of that language; it could also be done by converting the program into a transitional code that can then be interpreted to the systemâ€™s specific language by the interpreter.\n",
      "\n",
      "It depends on the purpose of a program for whether compiled or interpreted is better, but each has general advantages/disadvantages that do not change. Compiled languages are much faster due to the not having every line of code individually interpreted when the program is booted or while running, but instead read directly by the computer. However, versions that are not compiled can be ported to many different systems as interpreters will make the program usable while compilers are a lot more difficult to develop.\n",
      "\n",
      "C++ is a common compiled language, many game engines such as CryEngine, Blender, and Unity are built in C++ as powerful object-oriented programming (OOP) language. An OOP language differs from procedural oriented programming (POP) in several ways â€“ OOP has sections called objects that hold functions and data, this allows objects to be modified much easier than in POP, where the code just follows procedures (instructions that follow a specific order of statements). As in procedural languages, when new functions are added many modules will probably need to be changed â€“ while object languages can add objects without changes as they can inherit data/functions due to objects already created.\n",
      "\n",
      "The build language of a game engine is responsible for the core game mechanics including a rendering engine for 3D animated graphics, physics engine to give a game its own laws of physics (otherwise known as collision detection), artificial intelligence to generate realistic acting NPCs that react to playerâ€™s actions, an audio engine, and many more components that make up a video game. This is supported by scripting languages such as Python or JavaScript that allow developers to implement visual game features/additions that do not change how a game runs so even if there are glitches and errors then it will only make the new addition bugged as the gameâ€™s code and the game engineâ€™s code are separated. The scripting language for the engine also does not have to be compiled, so it is quicker to develop but without affecting the performance.\n"
     ]
    },
    {
     "ename": "ValueError",
     "evalue": "I/O operation on closed file.",
     "output_type": "error",
     "traceback": [
      "\u001b[1;31m---------------------------------------------------------------------------\u001b[0m",
      "\u001b[1;31mValueError\u001b[0m                                Traceback (most recent call last)",
      "\u001b[1;32m<ipython-input-7-2d3b8406fbde>\u001b[0m in \u001b[0;36m<module>\u001b[1;34m\u001b[0m\n\u001b[0;32m      5\u001b[0m \u001b[1;33m\u001b[0m\u001b[0m\n\u001b[0;32m      6\u001b[0m \u001b[1;33m\u001b[0m\u001b[0m\n\u001b[1;32m----> 7\u001b[1;33m \u001b[0mr\u001b[0m\u001b[1;33m=\u001b[0m\u001b[0mf\u001b[0m\u001b[1;33m.\u001b[0m\u001b[0mread\u001b[0m\u001b[1;33m(\u001b[0m\u001b[1;33m)\u001b[0m\u001b[1;33m\u001b[0m\u001b[1;33m\u001b[0m\u001b[0m\n\u001b[0m\u001b[0;32m      8\u001b[0m \u001b[0mi\u001b[0m\u001b[1;33m=\u001b[0m\u001b[0mr\u001b[0m\u001b[1;33m.\u001b[0m\u001b[0mlower\u001b[0m\u001b[1;33m(\u001b[0m\u001b[1;33m)\u001b[0m\u001b[1;33m\u001b[0m\u001b[1;33m\u001b[0m\u001b[0m\n\u001b[0;32m      9\u001b[0m \u001b[0md\u001b[0m\u001b[1;33m=\u001b[0m\u001b[1;33m{\u001b[0m\u001b[1;34m'a'\u001b[0m\u001b[1;33m:\u001b[0m\u001b[1;36m0\u001b[0m\u001b[1;33m,\u001b[0m\u001b[1;34m'e'\u001b[0m\u001b[1;33m:\u001b[0m\u001b[1;36m0\u001b[0m\u001b[1;33m,\u001b[0m\u001b[1;34m'i'\u001b[0m\u001b[1;33m:\u001b[0m\u001b[1;36m0\u001b[0m\u001b[1;33m,\u001b[0m\u001b[1;34m'o'\u001b[0m\u001b[1;33m:\u001b[0m\u001b[1;36m0\u001b[0m\u001b[1;33m,\u001b[0m\u001b[1;34m'u'\u001b[0m\u001b[1;33m:\u001b[0m\u001b[1;36m0\u001b[0m\u001b[1;33m}\u001b[0m\u001b[1;33m\u001b[0m\u001b[1;33m\u001b[0m\u001b[0m\n",
      "\u001b[1;31mValueError\u001b[0m: I/O operation on closed file."
     ]
    }
   ],
   "source": [
    "with open('para.txt','r') as f:\n",
    "    r=f.read()\n",
    "    print(r)\n",
    "    \n",
    "\n",
    "\n",
    "r=f.read()\n",
    "i=r.lower()\n",
    "d={'a':0,'e':0,'i':0,'o':0,'u':0}\n",
    "for i in r:\n",
    "    if i in d:\n",
    "        d[i]+=1\n",
    "print(d)\n",
    "     "
   ]
  },
  {
   "cell_type": "code",
   "execution_count": null,
   "metadata": {},
   "outputs": [],
   "source": []
  }
 ],
 "metadata": {
  "kernelspec": {
   "display_name": "Python 3",
   "language": "python",
   "name": "python3"
  },
  "language_info": {
   "codemirror_mode": {
    "name": "ipython",
    "version": 3
   },
   "file_extension": ".py",
   "mimetype": "text/x-python",
   "name": "python",
   "nbconvert_exporter": "python",
   "pygments_lexer": "ipython3",
   "version": "3.7.1"
  }
 },
 "nbformat": 4,
 "nbformat_minor": 2
}
